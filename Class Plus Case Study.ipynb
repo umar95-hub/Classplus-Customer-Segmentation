{
 "cells": [
  {
   "cell_type": "markdown",
   "metadata": {},
   "source": [
    "# Product or cutomer segmentation on Classplus 1 year data"
   ]
  },
  {
   "cell_type": "code",
   "execution_count": 2,
   "metadata": {},
   "outputs": [],
   "source": [
    "import pandas as pd\n",
    "\n",
    "import numpy as np\n",
    "\n",
    "import matplotlib.pyplot as plt\n",
    "\n",
    "import seaborn as sns"
   ]
  },
  {
   "cell_type": "code",
   "execution_count": 3,
   "metadata": {},
   "outputs": [],
   "source": [
    "df1 = pd.read_excel(r\"E:\\Class Plus Case Study\\PA_ASSIGNMENT.xlsx\", sheet_name= \"Transactions\", header = 1)\n",
    "df2 = pd.read_excel(r\"E:\\Class Plus Case Study\\PA_ASSIGNMENT.xlsx\", sheet_name=\"GMV\" , header= 1)"
   ]
  },
  {
   "cell_type": "code",
   "execution_count": 4,
   "metadata": {},
   "outputs": [
    {
     "data": {
      "text/html": [
       "<div>\n",
       "<style scoped>\n",
       "    .dataframe tbody tr th:only-of-type {\n",
       "        vertical-align: middle;\n",
       "    }\n",
       "\n",
       "    .dataframe tbody tr th {\n",
       "        vertical-align: top;\n",
       "    }\n",
       "\n",
       "    .dataframe thead th {\n",
       "        text-align: right;\n",
       "    }\n",
       "</style>\n",
       "<table border=\"1\" class=\"dataframe\">\n",
       "  <thead>\n",
       "    <tr style=\"text-align: right;\">\n",
       "      <th></th>\n",
       "      <th>OrgId</th>\n",
       "      <th>Jun'19</th>\n",
       "      <th>Jul'19</th>\n",
       "      <th>Aug'19</th>\n",
       "      <th>Sep'19</th>\n",
       "      <th>Oct'19</th>\n",
       "      <th>Nov'19</th>\n",
       "      <th>Dec'19</th>\n",
       "      <th>Jan'20</th>\n",
       "      <th>Feb'20</th>\n",
       "      <th>Mar'20</th>\n",
       "      <th>Apr'20</th>\n",
       "      <th>Grand Total</th>\n",
       "    </tr>\n",
       "  </thead>\n",
       "  <tbody>\n",
       "    <tr>\n",
       "      <th>0</th>\n",
       "      <td>C1</td>\n",
       "      <td>2.0</td>\n",
       "      <td>NaN</td>\n",
       "      <td>NaN</td>\n",
       "      <td>NaN</td>\n",
       "      <td>NaN</td>\n",
       "      <td>NaN</td>\n",
       "      <td>NaN</td>\n",
       "      <td>NaN</td>\n",
       "      <td>NaN</td>\n",
       "      <td>1.0</td>\n",
       "      <td>NaN</td>\n",
       "      <td>3</td>\n",
       "    </tr>\n",
       "    <tr>\n",
       "      <th>1</th>\n",
       "      <td>C2</td>\n",
       "      <td>NaN</td>\n",
       "      <td>NaN</td>\n",
       "      <td>NaN</td>\n",
       "      <td>NaN</td>\n",
       "      <td>NaN</td>\n",
       "      <td>NaN</td>\n",
       "      <td>3.0</td>\n",
       "      <td>NaN</td>\n",
       "      <td>NaN</td>\n",
       "      <td>NaN</td>\n",
       "      <td>4.0</td>\n",
       "      <td>7</td>\n",
       "    </tr>\n",
       "    <tr>\n",
       "      <th>2</th>\n",
       "      <td>C3</td>\n",
       "      <td>NaN</td>\n",
       "      <td>NaN</td>\n",
       "      <td>NaN</td>\n",
       "      <td>NaN</td>\n",
       "      <td>NaN</td>\n",
       "      <td>NaN</td>\n",
       "      <td>NaN</td>\n",
       "      <td>NaN</td>\n",
       "      <td>NaN</td>\n",
       "      <td>NaN</td>\n",
       "      <td>71.0</td>\n",
       "      <td>71</td>\n",
       "    </tr>\n",
       "    <tr>\n",
       "      <th>3</th>\n",
       "      <td>C4</td>\n",
       "      <td>NaN</td>\n",
       "      <td>NaN</td>\n",
       "      <td>NaN</td>\n",
       "      <td>NaN</td>\n",
       "      <td>NaN</td>\n",
       "      <td>NaN</td>\n",
       "      <td>1.0</td>\n",
       "      <td>NaN</td>\n",
       "      <td>3.0</td>\n",
       "      <td>2.0</td>\n",
       "      <td>1.0</td>\n",
       "      <td>7</td>\n",
       "    </tr>\n",
       "    <tr>\n",
       "      <th>4</th>\n",
       "      <td>C5</td>\n",
       "      <td>NaN</td>\n",
       "      <td>1.0</td>\n",
       "      <td>1.0</td>\n",
       "      <td>NaN</td>\n",
       "      <td>NaN</td>\n",
       "      <td>7.0</td>\n",
       "      <td>NaN</td>\n",
       "      <td>NaN</td>\n",
       "      <td>1.0</td>\n",
       "      <td>NaN</td>\n",
       "      <td>NaN</td>\n",
       "      <td>10</td>\n",
       "    </tr>\n",
       "    <tr>\n",
       "      <th>...</th>\n",
       "      <td>...</td>\n",
       "      <td>...</td>\n",
       "      <td>...</td>\n",
       "      <td>...</td>\n",
       "      <td>...</td>\n",
       "      <td>...</td>\n",
       "      <td>...</td>\n",
       "      <td>...</td>\n",
       "      <td>...</td>\n",
       "      <td>...</td>\n",
       "      <td>...</td>\n",
       "      <td>...</td>\n",
       "      <td>...</td>\n",
       "    </tr>\n",
       "    <tr>\n",
       "      <th>229</th>\n",
       "      <td>C230</td>\n",
       "      <td>NaN</td>\n",
       "      <td>NaN</td>\n",
       "      <td>NaN</td>\n",
       "      <td>NaN</td>\n",
       "      <td>NaN</td>\n",
       "      <td>NaN</td>\n",
       "      <td>NaN</td>\n",
       "      <td>NaN</td>\n",
       "      <td>NaN</td>\n",
       "      <td>16.0</td>\n",
       "      <td>1.0</td>\n",
       "      <td>17</td>\n",
       "    </tr>\n",
       "    <tr>\n",
       "      <th>230</th>\n",
       "      <td>C231</td>\n",
       "      <td>NaN</td>\n",
       "      <td>NaN</td>\n",
       "      <td>NaN</td>\n",
       "      <td>NaN</td>\n",
       "      <td>NaN</td>\n",
       "      <td>NaN</td>\n",
       "      <td>1.0</td>\n",
       "      <td>NaN</td>\n",
       "      <td>NaN</td>\n",
       "      <td>2.0</td>\n",
       "      <td>NaN</td>\n",
       "      <td>3</td>\n",
       "    </tr>\n",
       "    <tr>\n",
       "      <th>231</th>\n",
       "      <td>C232</td>\n",
       "      <td>NaN</td>\n",
       "      <td>NaN</td>\n",
       "      <td>NaN</td>\n",
       "      <td>NaN</td>\n",
       "      <td>NaN</td>\n",
       "      <td>NaN</td>\n",
       "      <td>2.0</td>\n",
       "      <td>NaN</td>\n",
       "      <td>NaN</td>\n",
       "      <td>1.0</td>\n",
       "      <td>2.0</td>\n",
       "      <td>5</td>\n",
       "    </tr>\n",
       "    <tr>\n",
       "      <th>232</th>\n",
       "      <td>C233</td>\n",
       "      <td>NaN</td>\n",
       "      <td>NaN</td>\n",
       "      <td>NaN</td>\n",
       "      <td>NaN</td>\n",
       "      <td>NaN</td>\n",
       "      <td>NaN</td>\n",
       "      <td>NaN</td>\n",
       "      <td>NaN</td>\n",
       "      <td>NaN</td>\n",
       "      <td>3.0</td>\n",
       "      <td>80.0</td>\n",
       "      <td>83</td>\n",
       "    </tr>\n",
       "    <tr>\n",
       "      <th>233</th>\n",
       "      <td>C234</td>\n",
       "      <td>NaN</td>\n",
       "      <td>NaN</td>\n",
       "      <td>NaN</td>\n",
       "      <td>1.0</td>\n",
       "      <td>NaN</td>\n",
       "      <td>NaN</td>\n",
       "      <td>4.0</td>\n",
       "      <td>1.0</td>\n",
       "      <td>7.0</td>\n",
       "      <td>16.0</td>\n",
       "      <td>19.0</td>\n",
       "      <td>48</td>\n",
       "    </tr>\n",
       "  </tbody>\n",
       "</table>\n",
       "<p>234 rows × 13 columns</p>\n",
       "</div>"
      ],
      "text/plain": [
       "    OrgId  Jun'19  Jul'19  Aug'19  Sep'19  Oct'19  Nov'19  Dec'19  Jan'20  \\\n",
       "0      C1     2.0     NaN     NaN     NaN     NaN     NaN     NaN     NaN   \n",
       "1      C2     NaN     NaN     NaN     NaN     NaN     NaN     3.0     NaN   \n",
       "2      C3     NaN     NaN     NaN     NaN     NaN     NaN     NaN     NaN   \n",
       "3      C4     NaN     NaN     NaN     NaN     NaN     NaN     1.0     NaN   \n",
       "4      C5     NaN     1.0     1.0     NaN     NaN     7.0     NaN     NaN   \n",
       "..    ...     ...     ...     ...     ...     ...     ...     ...     ...   \n",
       "229  C230     NaN     NaN     NaN     NaN     NaN     NaN     NaN     NaN   \n",
       "230  C231     NaN     NaN     NaN     NaN     NaN     NaN     1.0     NaN   \n",
       "231  C232     NaN     NaN     NaN     NaN     NaN     NaN     2.0     NaN   \n",
       "232  C233     NaN     NaN     NaN     NaN     NaN     NaN     NaN     NaN   \n",
       "233  C234     NaN     NaN     NaN     1.0     NaN     NaN     4.0     1.0   \n",
       "\n",
       "     Feb'20  Mar'20   Apr'20  Grand Total  \n",
       "0       NaN      1.0     NaN            3  \n",
       "1       NaN      NaN     4.0            7  \n",
       "2       NaN      NaN    71.0           71  \n",
       "3       3.0      2.0     1.0            7  \n",
       "4       1.0      NaN     NaN           10  \n",
       "..      ...      ...     ...          ...  \n",
       "229     NaN     16.0     1.0           17  \n",
       "230     NaN      2.0     NaN            3  \n",
       "231     NaN      1.0     2.0            5  \n",
       "232     NaN      3.0    80.0           83  \n",
       "233     7.0     16.0    19.0           48  \n",
       "\n",
       "[234 rows x 13 columns]"
      ]
     },
     "execution_count": 4,
     "metadata": {},
     "output_type": "execute_result"
    }
   ],
   "source": [
    "df1"
   ]
  },
  {
   "cell_type": "code",
   "execution_count": 5,
   "metadata": {},
   "outputs": [
    {
     "data": {
      "text/html": [
       "<div>\n",
       "<style scoped>\n",
       "    .dataframe tbody tr th:only-of-type {\n",
       "        vertical-align: middle;\n",
       "    }\n",
       "\n",
       "    .dataframe tbody tr th {\n",
       "        vertical-align: top;\n",
       "    }\n",
       "\n",
       "    .dataframe thead th {\n",
       "        text-align: right;\n",
       "    }\n",
       "</style>\n",
       "<table border=\"1\" class=\"dataframe\">\n",
       "  <thead>\n",
       "    <tr style=\"text-align: right;\">\n",
       "      <th></th>\n",
       "      <th>OrgId</th>\n",
       "      <th>Jun'19</th>\n",
       "      <th>Jul'19</th>\n",
       "      <th>Aug'19</th>\n",
       "      <th>Sep'19</th>\n",
       "      <th>Oct'19</th>\n",
       "      <th>Nov'19</th>\n",
       "      <th>Dec'19</th>\n",
       "      <th>Jan'20</th>\n",
       "      <th>Feb'20</th>\n",
       "      <th>Mar'20</th>\n",
       "      <th>Apr'20</th>\n",
       "      <th>Grand Total</th>\n",
       "    </tr>\n",
       "  </thead>\n",
       "  <tbody>\n",
       "    <tr>\n",
       "      <th>0</th>\n",
       "      <td>C1</td>\n",
       "      <td>99.999998</td>\n",
       "      <td>NaN</td>\n",
       "      <td>NaN</td>\n",
       "      <td>NaN</td>\n",
       "      <td>NaN</td>\n",
       "      <td>NaN</td>\n",
       "      <td>NaN</td>\n",
       "      <td>NaN</td>\n",
       "      <td>NaN</td>\n",
       "      <td>500.000014</td>\n",
       "      <td>NaN</td>\n",
       "      <td>600.000012</td>\n",
       "    </tr>\n",
       "    <tr>\n",
       "      <th>1</th>\n",
       "      <td>C2</td>\n",
       "      <td>NaN</td>\n",
       "      <td>NaN</td>\n",
       "      <td>NaN</td>\n",
       "      <td>NaN</td>\n",
       "      <td>NaN</td>\n",
       "      <td>NaN</td>\n",
       "      <td>2979.000019</td>\n",
       "      <td>NaN</td>\n",
       "      <td>NaN</td>\n",
       "      <td>NaN</td>\n",
       "      <td>3960.000038</td>\n",
       "      <td>6939.000057</td>\n",
       "    </tr>\n",
       "    <tr>\n",
       "      <th>2</th>\n",
       "      <td>C3</td>\n",
       "      <td>NaN</td>\n",
       "      <td>NaN</td>\n",
       "      <td>NaN</td>\n",
       "      <td>NaN</td>\n",
       "      <td>NaN</td>\n",
       "      <td>NaN</td>\n",
       "      <td>NaN</td>\n",
       "      <td>NaN</td>\n",
       "      <td>NaN</td>\n",
       "      <td>NaN</td>\n",
       "      <td>367.999990</td>\n",
       "      <td>367.999990</td>\n",
       "    </tr>\n",
       "    <tr>\n",
       "      <th>3</th>\n",
       "      <td>C4</td>\n",
       "      <td>NaN</td>\n",
       "      <td>NaN</td>\n",
       "      <td>NaN</td>\n",
       "      <td>NaN</td>\n",
       "      <td>NaN</td>\n",
       "      <td>NaN</td>\n",
       "      <td>300.000005</td>\n",
       "      <td>NaN</td>\n",
       "      <td>10719.999635</td>\n",
       "      <td>128.999997</td>\n",
       "      <td>10.000000</td>\n",
       "      <td>11158.999637</td>\n",
       "    </tr>\n",
       "    <tr>\n",
       "      <th>4</th>\n",
       "      <td>C5</td>\n",
       "      <td>NaN</td>\n",
       "      <td>1.0</td>\n",
       "      <td>999.999956</td>\n",
       "      <td>NaN</td>\n",
       "      <td>NaN</td>\n",
       "      <td>7000.000134</td>\n",
       "      <td>NaN</td>\n",
       "      <td>NaN</td>\n",
       "      <td>1.000000</td>\n",
       "      <td>NaN</td>\n",
       "      <td>NaN</td>\n",
       "      <td>8002.000090</td>\n",
       "    </tr>\n",
       "    <tr>\n",
       "      <th>...</th>\n",
       "      <td>...</td>\n",
       "      <td>...</td>\n",
       "      <td>...</td>\n",
       "      <td>...</td>\n",
       "      <td>...</td>\n",
       "      <td>...</td>\n",
       "      <td>...</td>\n",
       "      <td>...</td>\n",
       "      <td>...</td>\n",
       "      <td>...</td>\n",
       "      <td>...</td>\n",
       "      <td>...</td>\n",
       "      <td>...</td>\n",
       "    </tr>\n",
       "    <tr>\n",
       "      <th>229</th>\n",
       "      <td>C230</td>\n",
       "      <td>NaN</td>\n",
       "      <td>NaN</td>\n",
       "      <td>NaN</td>\n",
       "      <td>NaN</td>\n",
       "      <td>NaN</td>\n",
       "      <td>NaN</td>\n",
       "      <td>NaN</td>\n",
       "      <td>NaN</td>\n",
       "      <td>NaN</td>\n",
       "      <td>32.159999</td>\n",
       "      <td>2.010000</td>\n",
       "      <td>34.169999</td>\n",
       "    </tr>\n",
       "    <tr>\n",
       "      <th>230</th>\n",
       "      <td>C231</td>\n",
       "      <td>NaN</td>\n",
       "      <td>NaN</td>\n",
       "      <td>NaN</td>\n",
       "      <td>NaN</td>\n",
       "      <td>NaN</td>\n",
       "      <td>NaN</td>\n",
       "      <td>1200.000029</td>\n",
       "      <td>NaN</td>\n",
       "      <td>NaN</td>\n",
       "      <td>40.000001</td>\n",
       "      <td>NaN</td>\n",
       "      <td>1240.000030</td>\n",
       "    </tr>\n",
       "    <tr>\n",
       "      <th>231</th>\n",
       "      <td>C232</td>\n",
       "      <td>NaN</td>\n",
       "      <td>NaN</td>\n",
       "      <td>NaN</td>\n",
       "      <td>NaN</td>\n",
       "      <td>NaN</td>\n",
       "      <td>NaN</td>\n",
       "      <td>99.999999</td>\n",
       "      <td>NaN</td>\n",
       "      <td>NaN</td>\n",
       "      <td>2.010000</td>\n",
       "      <td>55.000000</td>\n",
       "      <td>157.009998</td>\n",
       "    </tr>\n",
       "    <tr>\n",
       "      <th>232</th>\n",
       "      <td>C233</td>\n",
       "      <td>NaN</td>\n",
       "      <td>NaN</td>\n",
       "      <td>NaN</td>\n",
       "      <td>NaN</td>\n",
       "      <td>NaN</td>\n",
       "      <td>NaN</td>\n",
       "      <td>NaN</td>\n",
       "      <td>NaN</td>\n",
       "      <td>NaN</td>\n",
       "      <td>739.000029</td>\n",
       "      <td>7623.999893</td>\n",
       "      <td>8362.999922</td>\n",
       "    </tr>\n",
       "    <tr>\n",
       "      <th>233</th>\n",
       "      <td>C234</td>\n",
       "      <td>NaN</td>\n",
       "      <td>NaN</td>\n",
       "      <td>NaN</td>\n",
       "      <td>1.0</td>\n",
       "      <td>NaN</td>\n",
       "      <td>NaN</td>\n",
       "      <td>402.000011</td>\n",
       "      <td>399.000011</td>\n",
       "      <td>1343.000021</td>\n",
       "      <td>2096.000035</td>\n",
       "      <td>3901.000021</td>\n",
       "      <td>8142.000099</td>\n",
       "    </tr>\n",
       "  </tbody>\n",
       "</table>\n",
       "<p>234 rows × 13 columns</p>\n",
       "</div>"
      ],
      "text/plain": [
       "    OrgId     Jun'19  Jul'19      Aug'19  Sep'19  Oct'19       Nov'19  \\\n",
       "0      C1  99.999998     NaN         NaN     NaN     NaN          NaN   \n",
       "1      C2        NaN     NaN         NaN     NaN     NaN          NaN   \n",
       "2      C3        NaN     NaN         NaN     NaN     NaN          NaN   \n",
       "3      C4        NaN     NaN         NaN     NaN     NaN          NaN   \n",
       "4      C5        NaN     1.0  999.999956     NaN     NaN  7000.000134   \n",
       "..    ...        ...     ...         ...     ...     ...          ...   \n",
       "229  C230        NaN     NaN         NaN     NaN     NaN          NaN   \n",
       "230  C231        NaN     NaN         NaN     NaN     NaN          NaN   \n",
       "231  C232        NaN     NaN         NaN     NaN     NaN          NaN   \n",
       "232  C233        NaN     NaN         NaN     NaN     NaN          NaN   \n",
       "233  C234        NaN     NaN         NaN     1.0     NaN          NaN   \n",
       "\n",
       "          Dec'19      Jan'20        Feb'20       Mar'20       Apr'20  \\\n",
       "0            NaN         NaN           NaN   500.000014          NaN   \n",
       "1    2979.000019         NaN           NaN          NaN  3960.000038   \n",
       "2            NaN         NaN           NaN          NaN   367.999990   \n",
       "3     300.000005         NaN  10719.999635   128.999997    10.000000   \n",
       "4            NaN         NaN      1.000000          NaN          NaN   \n",
       "..           ...         ...           ...          ...          ...   \n",
       "229          NaN         NaN           NaN    32.159999     2.010000   \n",
       "230  1200.000029         NaN           NaN    40.000001          NaN   \n",
       "231    99.999999         NaN           NaN     2.010000    55.000000   \n",
       "232          NaN         NaN           NaN   739.000029  7623.999893   \n",
       "233   402.000011  399.000011   1343.000021  2096.000035  3901.000021   \n",
       "\n",
       "      Grand Total  \n",
       "0      600.000012  \n",
       "1     6939.000057  \n",
       "2      367.999990  \n",
       "3    11158.999637  \n",
       "4     8002.000090  \n",
       "..            ...  \n",
       "229     34.169999  \n",
       "230   1240.000030  \n",
       "231    157.009998  \n",
       "232   8362.999922  \n",
       "233   8142.000099  \n",
       "\n",
       "[234 rows x 13 columns]"
      ]
     },
     "execution_count": 5,
     "metadata": {},
     "output_type": "execute_result"
    }
   ],
   "source": [
    "df2"
   ]
  },
  {
   "cell_type": "code",
   "execution_count": 6,
   "metadata": {},
   "outputs": [],
   "source": [
    "df1  = df1.fillna(0)\n",
    "df2 = df2.fillna(0)"
   ]
  },
  {
   "cell_type": "code",
   "execution_count": 7,
   "metadata": {
    "scrolled": true
   },
   "outputs": [
    {
     "data": {
      "text/html": [
       "<div>\n",
       "<style scoped>\n",
       "    .dataframe tbody tr th:only-of-type {\n",
       "        vertical-align: middle;\n",
       "    }\n",
       "\n",
       "    .dataframe tbody tr th {\n",
       "        vertical-align: top;\n",
       "    }\n",
       "\n",
       "    .dataframe thead th {\n",
       "        text-align: right;\n",
       "    }\n",
       "</style>\n",
       "<table border=\"1\" class=\"dataframe\">\n",
       "  <thead>\n",
       "    <tr style=\"text-align: right;\">\n",
       "      <th></th>\n",
       "      <th>Jun'19</th>\n",
       "      <th>Jul'19</th>\n",
       "      <th>Aug'19</th>\n",
       "      <th>Sep'19</th>\n",
       "      <th>Oct'19</th>\n",
       "      <th>Nov'19</th>\n",
       "      <th>Dec'19</th>\n",
       "      <th>Jan'20</th>\n",
       "      <th>Feb'20</th>\n",
       "      <th>Mar'20</th>\n",
       "      <th>Apr'20</th>\n",
       "      <th>Grand Total</th>\n",
       "    </tr>\n",
       "  </thead>\n",
       "  <tbody>\n",
       "    <tr>\n",
       "      <th>count</th>\n",
       "      <td>234.000000</td>\n",
       "      <td>2.340000e+02</td>\n",
       "      <td>234.000000</td>\n",
       "      <td>2.340000e+02</td>\n",
       "      <td>2.340000e+02</td>\n",
       "      <td>234.000000</td>\n",
       "      <td>2.340000e+02</td>\n",
       "      <td>2.340000e+02</td>\n",
       "      <td>2.340000e+02</td>\n",
       "      <td>2.340000e+02</td>\n",
       "      <td>2.340000e+02</td>\n",
       "      <td>2.340000e+02</td>\n",
       "    </tr>\n",
       "    <tr>\n",
       "      <th>mean</th>\n",
       "      <td>2427.360278</td>\n",
       "      <td>1.009258e+04</td>\n",
       "      <td>13524.957187</td>\n",
       "      <td>1.916877e+04</td>\n",
       "      <td>1.681934e+04</td>\n",
       "      <td>12715.312491</td>\n",
       "      <td>1.581483e+04</td>\n",
       "      <td>2.896010e+04</td>\n",
       "      <td>4.541250e+04</td>\n",
       "      <td>3.728521e+04</td>\n",
       "      <td>4.866794e+04</td>\n",
       "      <td>2.508889e+05</td>\n",
       "    </tr>\n",
       "    <tr>\n",
       "      <th>std</th>\n",
       "      <td>25542.242842</td>\n",
       "      <td>8.692593e+04</td>\n",
       "      <td>86152.452484</td>\n",
       "      <td>1.527861e+05</td>\n",
       "      <td>9.384452e+04</td>\n",
       "      <td>68313.986485</td>\n",
       "      <td>8.546777e+04</td>\n",
       "      <td>1.555543e+05</td>\n",
       "      <td>2.926225e+05</td>\n",
       "      <td>1.624031e+05</td>\n",
       "      <td>1.929265e+05</td>\n",
       "      <td>1.105233e+06</td>\n",
       "    </tr>\n",
       "    <tr>\n",
       "      <th>min</th>\n",
       "      <td>0.000000</td>\n",
       "      <td>0.000000e+00</td>\n",
       "      <td>0.000000</td>\n",
       "      <td>0.000000e+00</td>\n",
       "      <td>0.000000e+00</td>\n",
       "      <td>0.000000</td>\n",
       "      <td>0.000000e+00</td>\n",
       "      <td>0.000000e+00</td>\n",
       "      <td>0.000000e+00</td>\n",
       "      <td>0.000000e+00</td>\n",
       "      <td>0.000000e+00</td>\n",
       "      <td>3.000000e+00</td>\n",
       "    </tr>\n",
       "    <tr>\n",
       "      <th>25%</th>\n",
       "      <td>0.000000</td>\n",
       "      <td>0.000000e+00</td>\n",
       "      <td>0.000000</td>\n",
       "      <td>0.000000e+00</td>\n",
       "      <td>0.000000e+00</td>\n",
       "      <td>0.000000</td>\n",
       "      <td>0.000000e+00</td>\n",
       "      <td>0.000000e+00</td>\n",
       "      <td>0.000000e+00</td>\n",
       "      <td>0.000000e+00</td>\n",
       "      <td>2.010000e+00</td>\n",
       "      <td>9.806500e+01</td>\n",
       "    </tr>\n",
       "    <tr>\n",
       "      <th>50%</th>\n",
       "      <td>0.000000</td>\n",
       "      <td>0.000000e+00</td>\n",
       "      <td>0.000000</td>\n",
       "      <td>0.000000e+00</td>\n",
       "      <td>0.000000e+00</td>\n",
       "      <td>0.000000</td>\n",
       "      <td>0.000000e+00</td>\n",
       "      <td>0.000000e+00</td>\n",
       "      <td>0.000000e+00</td>\n",
       "      <td>3.108000e+01</td>\n",
       "      <td>4.150500e+01</td>\n",
       "      <td>2.122000e+03</td>\n",
       "    </tr>\n",
       "    <tr>\n",
       "      <th>75%</th>\n",
       "      <td>0.000000</td>\n",
       "      <td>0.000000e+00</td>\n",
       "      <td>0.000000</td>\n",
       "      <td>1.075000e+01</td>\n",
       "      <td>1.000000e+02</td>\n",
       "      <td>420.249993</td>\n",
       "      <td>5.932500e+02</td>\n",
       "      <td>1.208500e+03</td>\n",
       "      <td>1.296500e+03</td>\n",
       "      <td>4.928262e+03</td>\n",
       "      <td>6.970000e+03</td>\n",
       "      <td>3.663481e+04</td>\n",
       "    </tr>\n",
       "    <tr>\n",
       "      <th>max</th>\n",
       "      <td>381499.992477</td>\n",
       "      <td>1.076371e+06</td>\n",
       "      <td>865057.010134</td>\n",
       "      <td>2.218779e+06</td>\n",
       "      <td>1.070517e+06</td>\n",
       "      <td>731501.575584</td>\n",
       "      <td>1.008488e+06</td>\n",
       "      <td>1.692001e+06</td>\n",
       "      <td>3.903500e+06</td>\n",
       "      <td>1.680648e+06</td>\n",
       "      <td>1.861119e+06</td>\n",
       "      <td>1.193064e+07</td>\n",
       "    </tr>\n",
       "  </tbody>\n",
       "</table>\n",
       "</div>"
      ],
      "text/plain": [
       "              Jun'19        Jul'19         Aug'19        Sep'19        Oct'19  \\\n",
       "count     234.000000  2.340000e+02     234.000000  2.340000e+02  2.340000e+02   \n",
       "mean     2427.360278  1.009258e+04   13524.957187  1.916877e+04  1.681934e+04   \n",
       "std     25542.242842  8.692593e+04   86152.452484  1.527861e+05  9.384452e+04   \n",
       "min         0.000000  0.000000e+00       0.000000  0.000000e+00  0.000000e+00   \n",
       "25%         0.000000  0.000000e+00       0.000000  0.000000e+00  0.000000e+00   \n",
       "50%         0.000000  0.000000e+00       0.000000  0.000000e+00  0.000000e+00   \n",
       "75%         0.000000  0.000000e+00       0.000000  1.075000e+01  1.000000e+02   \n",
       "max    381499.992477  1.076371e+06  865057.010134  2.218779e+06  1.070517e+06   \n",
       "\n",
       "              Nov'19        Dec'19        Jan'20        Feb'20        Mar'20  \\\n",
       "count     234.000000  2.340000e+02  2.340000e+02  2.340000e+02  2.340000e+02   \n",
       "mean    12715.312491  1.581483e+04  2.896010e+04  4.541250e+04  3.728521e+04   \n",
       "std     68313.986485  8.546777e+04  1.555543e+05  2.926225e+05  1.624031e+05   \n",
       "min         0.000000  0.000000e+00  0.000000e+00  0.000000e+00  0.000000e+00   \n",
       "25%         0.000000  0.000000e+00  0.000000e+00  0.000000e+00  0.000000e+00   \n",
       "50%         0.000000  0.000000e+00  0.000000e+00  0.000000e+00  3.108000e+01   \n",
       "75%       420.249993  5.932500e+02  1.208500e+03  1.296500e+03  4.928262e+03   \n",
       "max    731501.575584  1.008488e+06  1.692001e+06  3.903500e+06  1.680648e+06   \n",
       "\n",
       "             Apr'20   Grand Total  \n",
       "count  2.340000e+02  2.340000e+02  \n",
       "mean   4.866794e+04  2.508889e+05  \n",
       "std    1.929265e+05  1.105233e+06  \n",
       "min    0.000000e+00  3.000000e+00  \n",
       "25%    2.010000e+00  9.806500e+01  \n",
       "50%    4.150500e+01  2.122000e+03  \n",
       "75%    6.970000e+03  3.663481e+04  \n",
       "max    1.861119e+06  1.193064e+07  "
      ]
     },
     "execution_count": 7,
     "metadata": {},
     "output_type": "execute_result"
    }
   ],
   "source": [
    "df2.describe()"
   ]
  },
  {
   "cell_type": "markdown",
   "metadata": {},
   "source": [
    "## Basic Stats for Transaction sheet"
   ]
  },
  {
   "cell_type": "code",
   "execution_count": 8,
   "metadata": {
    "scrolled": true
   },
   "outputs": [
    {
     "data": {
      "text/html": [
       "<div>\n",
       "<style scoped>\n",
       "    .dataframe tbody tr th:only-of-type {\n",
       "        vertical-align: middle;\n",
       "    }\n",
       "\n",
       "    .dataframe tbody tr th {\n",
       "        vertical-align: top;\n",
       "    }\n",
       "\n",
       "    .dataframe thead th {\n",
       "        text-align: right;\n",
       "    }\n",
       "</style>\n",
       "<table border=\"1\" class=\"dataframe\">\n",
       "  <thead>\n",
       "    <tr style=\"text-align: right;\">\n",
       "      <th></th>\n",
       "      <th>Jun'19</th>\n",
       "      <th>Jul'19</th>\n",
       "      <th>Aug'19</th>\n",
       "      <th>Sep'19</th>\n",
       "      <th>Oct'19</th>\n",
       "      <th>Nov'19</th>\n",
       "      <th>Dec'19</th>\n",
       "      <th>Jan'20</th>\n",
       "      <th>Feb'20</th>\n",
       "      <th>Mar'20</th>\n",
       "      <th>Apr'20</th>\n",
       "      <th>Grand Total</th>\n",
       "    </tr>\n",
       "  </thead>\n",
       "  <tbody>\n",
       "    <tr>\n",
       "      <th>count</th>\n",
       "      <td>234.000000</td>\n",
       "      <td>234.00000</td>\n",
       "      <td>234.000000</td>\n",
       "      <td>234.000000</td>\n",
       "      <td>234.000000</td>\n",
       "      <td>234.000000</td>\n",
       "      <td>234.000000</td>\n",
       "      <td>234.000000</td>\n",
       "      <td>234.00000</td>\n",
       "      <td>234.000000</td>\n",
       "      <td>234.000000</td>\n",
       "      <td>234.000000</td>\n",
       "    </tr>\n",
       "    <tr>\n",
       "      <th>mean</th>\n",
       "      <td>2.508547</td>\n",
       "      <td>7.75641</td>\n",
       "      <td>14.512821</td>\n",
       "      <td>15.277778</td>\n",
       "      <td>12.713675</td>\n",
       "      <td>24.504274</td>\n",
       "      <td>25.089744</td>\n",
       "      <td>31.970085</td>\n",
       "      <td>52.58547</td>\n",
       "      <td>61.000000</td>\n",
       "      <td>67.290598</td>\n",
       "      <td>315.209402</td>\n",
       "    </tr>\n",
       "    <tr>\n",
       "      <th>std</th>\n",
       "      <td>25.049692</td>\n",
       "      <td>57.90080</td>\n",
       "      <td>76.689958</td>\n",
       "      <td>92.255452</td>\n",
       "      <td>57.949653</td>\n",
       "      <td>121.353888</td>\n",
       "      <td>109.229355</td>\n",
       "      <td>121.481251</td>\n",
       "      <td>228.04981</td>\n",
       "      <td>305.852625</td>\n",
       "      <td>358.062372</td>\n",
       "      <td>1233.182113</td>\n",
       "    </tr>\n",
       "    <tr>\n",
       "      <th>min</th>\n",
       "      <td>0.000000</td>\n",
       "      <td>0.00000</td>\n",
       "      <td>0.000000</td>\n",
       "      <td>0.000000</td>\n",
       "      <td>0.000000</td>\n",
       "      <td>0.000000</td>\n",
       "      <td>0.000000</td>\n",
       "      <td>0.000000</td>\n",
       "      <td>0.00000</td>\n",
       "      <td>0.000000</td>\n",
       "      <td>0.000000</td>\n",
       "      <td>3.000000</td>\n",
       "    </tr>\n",
       "    <tr>\n",
       "      <th>25%</th>\n",
       "      <td>0.000000</td>\n",
       "      <td>0.00000</td>\n",
       "      <td>0.000000</td>\n",
       "      <td>0.000000</td>\n",
       "      <td>0.000000</td>\n",
       "      <td>0.000000</td>\n",
       "      <td>0.000000</td>\n",
       "      <td>0.000000</td>\n",
       "      <td>0.00000</td>\n",
       "      <td>0.000000</td>\n",
       "      <td>1.000000</td>\n",
       "      <td>6.000000</td>\n",
       "    </tr>\n",
       "    <tr>\n",
       "      <th>50%</th>\n",
       "      <td>0.000000</td>\n",
       "      <td>0.00000</td>\n",
       "      <td>0.000000</td>\n",
       "      <td>0.000000</td>\n",
       "      <td>0.000000</td>\n",
       "      <td>0.000000</td>\n",
       "      <td>0.000000</td>\n",
       "      <td>0.000000</td>\n",
       "      <td>0.00000</td>\n",
       "      <td>2.000000</td>\n",
       "      <td>5.000000</td>\n",
       "      <td>17.000000</td>\n",
       "    </tr>\n",
       "    <tr>\n",
       "      <th>75%</th>\n",
       "      <td>0.000000</td>\n",
       "      <td>0.00000</td>\n",
       "      <td>0.000000</td>\n",
       "      <td>1.000000</td>\n",
       "      <td>2.000000</td>\n",
       "      <td>2.750000</td>\n",
       "      <td>3.000000</td>\n",
       "      <td>5.000000</td>\n",
       "      <td>4.00000</td>\n",
       "      <td>16.000000</td>\n",
       "      <td>21.000000</td>\n",
       "      <td>87.250000</td>\n",
       "    </tr>\n",
       "    <tr>\n",
       "      <th>max</th>\n",
       "      <td>376.000000</td>\n",
       "      <td>824.00000</td>\n",
       "      <td>794.000000</td>\n",
       "      <td>1286.000000</td>\n",
       "      <td>691.000000</td>\n",
       "      <td>1474.000000</td>\n",
       "      <td>1208.000000</td>\n",
       "      <td>982.000000</td>\n",
       "      <td>1774.00000</td>\n",
       "      <td>3873.000000</td>\n",
       "      <td>4563.000000</td>\n",
       "      <td>14865.000000</td>\n",
       "    </tr>\n",
       "  </tbody>\n",
       "</table>\n",
       "</div>"
      ],
      "text/plain": [
       "           Jun'19     Jul'19      Aug'19       Sep'19      Oct'19  \\\n",
       "count  234.000000  234.00000  234.000000   234.000000  234.000000   \n",
       "mean     2.508547    7.75641   14.512821    15.277778   12.713675   \n",
       "std     25.049692   57.90080   76.689958    92.255452   57.949653   \n",
       "min      0.000000    0.00000    0.000000     0.000000    0.000000   \n",
       "25%      0.000000    0.00000    0.000000     0.000000    0.000000   \n",
       "50%      0.000000    0.00000    0.000000     0.000000    0.000000   \n",
       "75%      0.000000    0.00000    0.000000     1.000000    2.000000   \n",
       "max    376.000000  824.00000  794.000000  1286.000000  691.000000   \n",
       "\n",
       "            Nov'19       Dec'19      Jan'20      Feb'20      Mar'20   \\\n",
       "count   234.000000   234.000000  234.000000   234.00000   234.000000   \n",
       "mean     24.504274    25.089744   31.970085    52.58547    61.000000   \n",
       "std     121.353888   109.229355  121.481251   228.04981   305.852625   \n",
       "min       0.000000     0.000000    0.000000     0.00000     0.000000   \n",
       "25%       0.000000     0.000000    0.000000     0.00000     0.000000   \n",
       "50%       0.000000     0.000000    0.000000     0.00000     2.000000   \n",
       "75%       2.750000     3.000000    5.000000     4.00000    16.000000   \n",
       "max    1474.000000  1208.000000  982.000000  1774.00000  3873.000000   \n",
       "\n",
       "            Apr'20   Grand Total  \n",
       "count   234.000000    234.000000  \n",
       "mean     67.290598    315.209402  \n",
       "std     358.062372   1233.182113  \n",
       "min       0.000000      3.000000  \n",
       "25%       1.000000      6.000000  \n",
       "50%       5.000000     17.000000  \n",
       "75%      21.000000     87.250000  \n",
       "max    4563.000000  14865.000000  "
      ]
     },
     "execution_count": 8,
     "metadata": {},
     "output_type": "execute_result"
    }
   ],
   "source": [
    "df1.describe()"
   ]
  },
  {
   "cell_type": "code",
   "execution_count": 9,
   "metadata": {
    "scrolled": false
   },
   "outputs": [
    {
     "data": {
      "image/png": "[encoded data removed]",
      "text/plain": [
       "<Figure size 1440x576 with 4 Axes>"
      ]
     },
     "metadata": {
      "needs_background": "light"
     },
     "output_type": "display_data"
    }
   ],
   "source": [
    "#plt.figure(figsize= (10,10))\n",
    "\n",
    "fig, axis = plt.subplots( nrows= 2,ncols=2, figsize=(20, 8))\n",
    "\n",
    "\n",
    "colms = df1.columns[1:-1]\n",
    "\n",
    "sns.barplot(x = colms, y= [df1[i].sum() for i in colms], ax = axis[0,0]).set(title='Total Video creation Per Month')\n",
    "sns.lineplot(x = colms, y= [df1[i].sum() for i in colms], ax = axis[0,0]).set(title='Total Video creation Per Month')\n",
    "\n",
    "sns.barplot(x = colms, y= [df1[i].mean() for i in colms], ax = axis[0,1]).set(title='Mean Video creation Per Month')\n",
    "sns.lineplot(x = colms, y= [df1[i].mean() for i in colms], ax = axis[0,1]).set(title='Mean Video creation Per Month')\n",
    "\n",
    "sns.barplot(x = colms, y= [df1[i].std() for i in colms], ax = axis[1,0]).set(title='Deviation Video creation Per Month')\n",
    "sns.lineplot(x = colms, y= [df1[i].std() for i in colms], ax = axis[1,0]).set(title='Deviation Video creation Per Month')\n",
    "\n",
    "sns.barplot(x = colms, y= [df1[i].median() for i in colms], ax = axis[1,1]).set(title='Median of Video creation Per Month')\n",
    "sns.lineplot(x = colms, y= [df1[i].median() for i in colms], ax = axis[1,1]).set(title='Median of Video creation Per Month')\n",
    "plt.show()"
   ]
  },
  {
   "cell_type": "markdown",
   "metadata": {},
   "source": [
    "Observation:\n",
    "\n",
    "    1. From total and mean video creation plot we can say with time the number video creation is increasing Which indicates this platform is doing good for the creators\n",
    "    \n",
    "    2. Now from deviation plot since data deviation also increasing it could possibly because of those who are keep increasing their video production capcity than others. And they are more serious about it.\n",
    "    \n",
    "    3. And from median video creation plot one intresting thing we notice that most of the creators like more than 75% (from above description table) were not even creating videos before feb20 or they were not even present in the platform."
   ]
  },
  {
   "cell_type": "code",
   "execution_count": 10,
   "metadata": {
    "scrolled": false
   },
   "outputs": [
    {
     "data": {
      "image/png": "[encoded data removed]",
      "text/plain": [
       "<Figure size 1080x360 with 1 Axes>"
      ]
     },
     "metadata": {
      "needs_background": "light"
     },
     "output_type": "display_data"
    }
   ],
   "source": [
    "plt.plot = plt.figure(figsize= (15,5))\n",
    "sns.histplot(x = df1['Grand Total'], bins = 50, kde = True)\n",
    "plt.show()"
   ]
  },
  {
   "cell_type": "code",
   "execution_count": 11,
   "metadata": {},
   "outputs": [
    {
     "name": "stdout",
     "output_type": "stream",
     "text": [
      "0'th Percentile value of grand total: 3.0\n",
      "10'th Percentile value of grand total: 3.0\n",
      "20'th Percentile value of grand total: 4.0\n",
      "30'th Percentile value of grand total: 7.0\n",
      "40'th Percentile value of grand total: 12.0\n",
      "50'th Percentile value of grand total: 17.0\n",
      "60'th Percentile value of grand total: 31.0\n",
      "70'th Percentile value of grand total: 52.19999999999999\n",
      "80'th Percentile value of grand total: 162.4\n",
      "90'th Percentile value of grand total: 579.9000000000003\n",
      "100'th Percentile value of grand total: 14865.0\n"
     ]
    }
   ],
   "source": [
    "for i in range(0,101,10):\n",
    "    v = np.percentile(df1['Grand Total'],i)\n",
    "    print(\"{}'th Percentile value of grand total: {}\".format(i,v))"
   ]
  },
  {
   "cell_type": "code",
   "execution_count": 12,
   "metadata": {
    "scrolled": false
   },
   "outputs": [
    {
     "name": "stdout",
     "output_type": "stream",
     "text": [
      "90'th Percentile value of grand total: 579.9000000000003\n",
      "91'th Percentile value of grand total: 636.87\n",
      "92'th Percentile value of grand total: 771.5600000000006\n",
      "93'th Percentile value of grand total: 1032.9199999999998\n",
      "94'th Percentile value of grand total: 1120.3599999999997\n",
      "95'th Percentile value of grand total: 1505.2999999999975\n",
      "96'th Percentile value of grand total: 1979.8799999999987\n",
      "97'th Percentile value of grand total: 2499.2799999999997\n",
      "98'th Percentile value of grand total: 3346.9800000000005\n",
      "99'th Percentile value of grand total: 4211.569999999991\n",
      "100'th Percentile value of grand total: 14865.0\n"
     ]
    }
   ],
   "source": [
    "for i in range(90,101,1):\n",
    "    v = np.percentile(df1['Grand Total'],i)\n",
    "    print(\"{}'th Percentile value of grand total: {}\".format(i,v))"
   ]
  },
  {
   "cell_type": "markdown",
   "metadata": {},
   "source": [
    "Clearly only a small person of people producing really high number of contents "
   ]
  },
  {
   "cell_type": "markdown",
   "metadata": {},
   "source": [
    "#### Lets see if it has a tendency of following 80-20 principle or power law distrbution"
   ]
  },
  {
   "cell_type": "code",
   "execution_count": 13,
   "metadata": {},
   "outputs": [],
   "source": [
    "df1_sorted = df1.sort_values('Grand Total')"
   ]
  },
  {
   "cell_type": "code",
   "execution_count": 14,
   "metadata": {
    "scrolled": false
   },
   "outputs": [
    {
     "name": "stdout",
     "output_type": "stream",
     "text": [
      " Total percentage of videos produced by top 20% of people -  0.935275695169403\n",
      " Total percentage of videos produced by top 10% of people -  0.819805040740791\n"
     ]
    }
   ],
   "source": [
    "p_20 = df1_sorted['Grand Total'][-int(234*.2):].sum()/df1['Grand Total'].sum()\n",
    "p_10 = df1_sorted['Grand Total'][-int(234*.1):].sum()/df1['Grand Total'].sum()\n",
    "\n",
    "print(\" Total percentage of videos produced by top 20% of people - \", p_20)\n",
    "print(\" Total percentage of videos produced by top 10% of people - \", p_10)"
   ]
  },
  {
   "cell_type": "code",
   "execution_count": 15,
   "metadata": {},
   "outputs": [
    {
     "data": {
      "text/plain": [
       "Jun'19     0.778535\n",
       "Jul'19     0.940496\n",
       "Aug'19     0.901060\n",
       "Sep'19     0.832727\n",
       "Oct'19     0.766387\n",
       "Nov'19     0.884025\n",
       "Dec'19     0.880770\n",
       "Jan'20     0.810988\n",
       "Feb'20     0.879561\n",
       "Mar'20     0.791159\n",
       "Apr'20     0.734409\n",
       "dtype: float64"
      ]
     },
     "execution_count": 15,
     "metadata": {},
     "output_type": "execute_result"
    }
   ],
   "source": [
    "# Let's see the numbers monthwise for top 10% of people\n",
    "df1_sorted[colms][-int(234*.1):].sum()/df1[colms].sum()"
   ]
  },
  {
   "cell_type": "markdown",
   "metadata": {},
   "source": [
    "So I would like to state that the dataset has a tendecy of following 80-20 principle, here instead 20, top 10 percent people are producing almost 80 percent of the videos"
   ]
  },
  {
   "cell_type": "code",
   "execution_count": 16,
   "metadata": {
    "scrolled": true
   },
   "outputs": [
    {
     "data": {
      "text/plain": [
       "0.8057197855080435"
      ]
     },
     "execution_count": 16,
     "metadata": {},
     "output_type": "execute_result"
    }
   ],
   "source": [
    "df1_r = df1_sorted[df1_sorted['Grand Total'] < np.percentile(df1_sorted['Grand Total'],91)]\n",
    "df1_r['Grand Total'][-int(len(df1_r)*.2):].sum()/df1_r['Grand Total'].sum()"
   ]
  },
  {
   "cell_type": "code",
   "execution_count": 17,
   "metadata": {
    "scrolled": true
   },
   "outputs": [
    {
     "data": {
      "text/plain": [
       "Jun'19     0.613636\n",
       "Jul'19     0.878049\n",
       "Aug'19     0.875606\n",
       "Sep'19     0.826859\n",
       "Oct'19     0.770115\n",
       "Nov'19     0.776675\n",
       "Dec'19     0.850197\n",
       "Jan'20     0.907258\n",
       "Feb'20     0.851827\n",
       "Mar'20     0.792277\n",
       "Apr'20     0.752785\n",
       "dtype: float64"
      ]
     },
     "execution_count": 17,
     "metadata": {},
     "output_type": "execute_result"
    }
   ],
   "source": [
    "df1_r[colms][-int(len(df1_r)*.2):].sum()/df1_r[colms].sum()"
   ]
  },
  {
   "cell_type": "code",
   "execution_count": 18,
   "metadata": {},
   "outputs": [
    {
     "data": {
      "image/png": "[encoded data removed]",
      "text/plain": [
       "<Figure size 1440x720 with 1 Axes>"
      ]
     },
     "metadata": {
      "needs_background": "light"
     },
     "output_type": "display_data"
    }
   ],
   "source": [
    "plt.figure(figsize = (20,10))\n",
    "df1_r[colms].boxplot(grid=True, fontsize=10)\n",
    "plt.title(\"Box Plot of video creation each month\")\n",
    "plt.show()"
   ]
  },
  {
   "cell_type": "markdown",
   "metadata": {},
   "source": [
    " Now here I have selected creators with total less than arround 636 but still some month has total videos close to 600 which I want consider as outliers and can inspect them later"
   ]
  },
  {
   "cell_type": "code",
   "execution_count": 19,
   "metadata": {},
   "outputs": [
    {
     "data": {
      "text/plain": [
       "0.5178930302467364"
      ]
     },
     "execution_count": 19,
     "metadata": {},
     "output_type": "execute_result"
    }
   ],
   "source": [
    "# Ditribution among top 9%\n",
    "df1_lr = df1_sorted[df1_sorted['Grand Total'] >= np.percentile(df1_sorted['Grand Total'],91)]\n",
    "df1_lr['Grand Total'][-int(len(df1_lr)*.2):].sum()/df1_lr['Grand Total'].sum()"
   ]
  },
  {
   "cell_type": "code",
   "execution_count": 20,
   "metadata": {},
   "outputs": [
    {
     "data": {
      "image/png": "[encoded data removed]",
      "text/plain": [
       "<Figure size 1440x720 with 1 Axes>"
      ]
     },
     "metadata": {
      "needs_background": "light"
     },
     "output_type": "display_data"
    }
   ],
   "source": [
    "plt.figure(figsize = (20,10))\n",
    "df1_lr[colms].boxplot(grid=True, fontsize=10)\n",
    "plt.title(\"Box Plot of video creation each month\")\n",
    "plt.show()"
   ]
  },
  {
   "cell_type": "code",
   "execution_count": 21,
   "metadata": {},
   "outputs": [],
   "source": [
    "top_10 = df1_lr.OrgId"
   ]
  },
  {
   "cell_type": "code",
   "execution_count": 22,
   "metadata": {},
   "outputs": [
    {
     "data": {
      "text/plain": [
       "21"
      ]
     },
     "execution_count": 22,
     "metadata": {},
     "output_type": "execute_result"
    }
   ],
   "source": [
    "len(top_10)"
   ]
  },
  {
   "cell_type": "markdown",
   "metadata": {},
   "source": [
    "Conclusion:\n",
    "1. These top 9 percentile creator seems to be here for a longer period of time and with time they seems to be increasing there contents, also the number of contents indicates they are not an individual but studios with a good capacity video production.\n",
    "Since they are taking interest for a long period of time that means Classplus platform really working good for them. Which is a good sign\n",
    "\n",
    "\n",
    "2. Also they produce almost 80% of total videos, so they should be taken care of."
   ]
  },
  {
   "cell_type": "markdown",
   "metadata": {},
   "source": [
    "## Basic Stats for GMV sheet"
   ]
  },
  {
   "cell_type": "code",
   "execution_count": 23,
   "metadata": {},
   "outputs": [],
   "source": [
    "df2.columns = df1.columns"
   ]
  },
  {
   "cell_type": "code",
   "execution_count": 24,
   "metadata": {},
   "outputs": [
    {
     "data": {
      "image/png": "[encoded data removed]",
      "text/plain": [
       "<Figure size 1440x576 with 4 Axes>"
      ]
     },
     "metadata": {
      "needs_background": "light"
     },
     "output_type": "display_data"
    }
   ],
   "source": [
    "#plt.figure(figsize= (10,10))\n",
    "\n",
    "fig, axis = plt.subplots( nrows= 2,ncols=2, figsize=(20, 8))\n",
    "\n",
    "\n",
    "colms2 = df2.columns[1:-1]\n",
    "\n",
    "sns.barplot(x = colms, y= [df2[i].sum() for i in colms], ax = axis[0,0]).set(title='Total Video sell Per Month')\n",
    "sns.lineplot(x = colms, y= [df2[i].sum() for i in colms], ax = axis[0,0]).set(title='Total Video sell Per Month')\n",
    "\n",
    "sns.barplot(x = colms, y= [df2[i].mean() for i in colms], ax = axis[0,1]).set(title='Mean Video sell Per Month')\n",
    "sns.lineplot(x = colms, y= [df2[i].mean() for i in colms], ax = axis[0,1]).set(title='Mean Video sell Per Month')\n",
    "\n",
    "sns.barplot(x = colms, y= [df2[i].std() for i in colms], ax = axis[1,0]).set(title='Deviation Video sell Per Month')\n",
    "sns.lineplot(x = colms, y= [df2[i].std() for i in colms], ax = axis[1,0]).set(title='Deviation Video sell Per Month')\n",
    "\n",
    "sns.barplot(x = colms, y= [df2[i].median() for i in colms], ax = axis[1,1]).set(title='Median of Video sell Per Month')\n",
    "sns.lineplot(x = colms, y= [df2[i].median() for i in colms], ax = axis[1,1]).set(title='Median of Video sell Per Month')\n",
    "plt.show()"
   ]
  },
  {
   "cell_type": "code",
   "execution_count": 25,
   "metadata": {},
   "outputs": [
    {
     "data": {
      "image/png": "[encoded data removed]",
      "text/plain": [
       "<Figure size 1080x360 with 1 Axes>"
      ]
     },
     "metadata": {
      "needs_background": "light"
     },
     "output_type": "display_data"
    }
   ],
   "source": [
    "plt.plot = plt.figure(figsize= (15,5))\n",
    "sns.histplot(x = df2['Grand Total'], bins = 50, kde = True)\n",
    "plt.show()"
   ]
  },
  {
   "cell_type": "code",
   "execution_count": 26,
   "metadata": {},
   "outputs": [
    {
     "name": "stdout",
     "output_type": "stream",
     "text": [
      "0'th Percentile value of grand total: 2.999999916180962\n",
      "10'th Percentile value of grand total: 12.002999746799457\n",
      "20'th Percentile value of grand total: 51.637999422848125\n",
      "30'th Percentile value of grand total: 253.61800691336353\n",
      "40'th Percentile value of grand total: 711.2040066346517\n",
      "50'th Percentile value of grand total: 2121.999988436688\n",
      "60'th Percentile value of grand total: 6911.2000892639035\n",
      "70'th Percentile value of grand total: 19756.71817368415\n",
      "80'th Percentile value of grand total: 68635.0288904316\n",
      "90'th Percentile value of grand total: 328164.5239552579\n",
      "100'th Percentile value of grand total: 11930639.626307186\n"
     ]
    }
   ],
   "source": [
    "for i in range(0,101,10):\n",
    "    v = np.percentile(df2['Grand Total'],i)\n",
    "    print(\"{}'th Percentile value of grand total: {}\".format(i,v))"
   ]
  },
  {
   "cell_type": "code",
   "execution_count": 27,
   "metadata": {},
   "outputs": [
    {
     "name": "stdout",
     "output_type": "stream",
     "text": [
      "90'th Percentile value of grand total: 328164.5239552579\n",
      "91'th Percentile value of grand total: 376598.4625669058\n",
      "92'th Percentile value of grand total: 489108.90432557894\n",
      "93'th Percentile value of grand total: 677559.9711930151\n",
      "94'th Percentile value of grand total: 893677.3623285928\n",
      "95'th Percentile value of grand total: 1188801.1180923218\n",
      "96'th Percentile value of grand total: 1322248.60126882\n",
      "97'th Percentile value of grand total: 1841731.9913068356\n",
      "98'th Percentile value of grand total: 3047157.4237821028\n",
      "99'th Percentile value of grand total: 4755291.727028895\n",
      "100'th Percentile value of grand total: 11930639.626307186\n"
     ]
    }
   ],
   "source": [
    "for i in range(90,101,1):\n",
    "    v = np.percentile(df2['Grand Total'],i)\n",
    "    print(\"{}'th Percentile value of grand total: {}\".format(i,v))"
   ]
  },
  {
   "cell_type": "code",
   "execution_count": 28,
   "metadata": {},
   "outputs": [],
   "source": [
    "df2_sorted = df2.sort_values('Grand Total')"
   ]
  },
  {
   "cell_type": "code",
   "execution_count": 29,
   "metadata": {},
   "outputs": [
    {
     "name": "stdout",
     "output_type": "stream",
     "text": [
      " Total percentage of videos produced by top 20% of people -  0.975341069913418\n",
      " Total percentage of videos produced by top 10% of people -  0.9033305604772583\n"
     ]
    }
   ],
   "source": [
    "p_20 = df2_sorted['Grand Total'][-int(234*.2):].sum()/df2['Grand Total'].sum()\n",
    "p_10 = df2_sorted['Grand Total'][-int(234*.1):].sum()/df2['Grand Total'].sum()\n",
    "\n",
    "print(\" Total percentage of videos produced by top 20% of people - \", p_20)\n",
    "print(\" Total percentage of videos produced by top 10% of people - \", p_10)"
   ]
  },
  {
   "cell_type": "code",
   "execution_count": 30,
   "metadata": {},
   "outputs": [
    {
     "data": {
      "text/plain": [
       "Jun'19     0.967591\n",
       "Jul'19     0.989880\n",
       "Aug'19     0.961396\n",
       "Sep'19     0.979400\n",
       "Oct'19     0.977887\n",
       "Nov'19     0.958994\n",
       "Dec'19     0.975878\n",
       "Jan'20     0.985993\n",
       "Feb'20     0.987964\n",
       "Mar'20     0.972120\n",
       "Apr'20     0.962556\n",
       "dtype: float64"
      ]
     },
     "execution_count": 30,
     "metadata": {},
     "output_type": "execute_result"
    }
   ],
   "source": [
    "# Let's see the numbers monthwise for top 10% of people\n",
    "df2_sorted[colms][-int(234*.2):].sum()/df2[colms].sum()"
   ]
  },
  {
   "cell_type": "code",
   "execution_count": 31,
   "metadata": {},
   "outputs": [],
   "source": [
    "df2_lr = df2_sorted[df2_sorted['Grand Total'] >= np.percentile(df2_sorted['Grand Total'],91)]\n",
    "top_10_soldout = df2_lr.OrgId"
   ]
  },
  {
   "cell_type": "code",
   "execution_count": null,
   "metadata": {},
   "outputs": [],
   "source": []
  },
  {
   "cell_type": "markdown",
   "metadata": {},
   "source": [
    "#### Overlap between top 20 creator and top 20 percentile GMV"
   ]
  },
  {
   "cell_type": "code",
   "execution_count": 32,
   "metadata": {},
   "outputs": [
    {
     "data": {
      "text/plain": [
       "12"
      ]
     },
     "execution_count": 32,
     "metadata": {},
     "output_type": "execute_result"
    }
   ],
   "source": [
    "len(set.intersection(set(top_10),set(top_10_soldout)))"
   ]
  },
  {
   "cell_type": "code",
   "execution_count": 33,
   "metadata": {
    "scrolled": true
   },
   "outputs": [
    {
     "data": {
      "text/plain": [
       "{'C121', 'C149', 'C171', 'C195', 'C206', 'C207', 'C223', 'C41', 'C69'}"
      ]
     },
     "execution_count": 33,
     "metadata": {},
     "output_type": "execute_result"
    }
   ],
   "source": [
    "set(top_10) - set(top_10_soldout)"
   ]
  },
  {
   "cell_type": "code",
   "execution_count": 34,
   "metadata": {
    "scrolled": false
   },
   "outputs": [
    {
     "data": {
      "text/plain": [
       "{'C100', 'C125', 'C128', 'C15', 'C182', 'C204', 'C215', 'C51', 'C9'}"
      ]
     },
     "execution_count": 34,
     "metadata": {},
     "output_type": "execute_result"
    }
   ],
   "source": [
    "set(top_10_soldout) - set(top_10)"
   ]
  },
  {
   "cell_type": "code",
   "execution_count": 36,
   "metadata": {},
   "outputs": [
    {
     "data": {
      "text/plain": [
       "59"
      ]
     },
     "execution_count": 36,
     "metadata": {},
     "output_type": "execute_result"
    }
   ],
   "source": [
    "# Creator presnt in either of datsets top 20 percentiles\n",
    "top_20 = df1_sorted[df1_sorted['Grand Total'] >= np.percentile(df1_sorted['Grand Total'],80)].OrgId\n",
    "top_20_soldout = df2_sorted[df2_sorted['Grand Total'] >= np.percentile(df2_sorted['Grand Total'],80)].OrgId\n",
    "len(set.union(set(top_20),set(top_20_soldout)))"
   ]
  },
  {
   "cell_type": "code",
   "execution_count": 37,
   "metadata": {},
   "outputs": [
    {
     "data": {
      "text/plain": [
       "35"
      ]
     },
     "execution_count": 37,
     "metadata": {},
     "output_type": "execute_result"
    }
   ],
   "source": [
    "# Creator presnt in both datasets top 20 percentiles\n",
    "top_20 = df1_sorted[df1_sorted['Grand Total'] >= np.percentile(df1_sorted['Grand Total'],80)].OrgId\n",
    "top_20_soldout = df2_sorted[df2_sorted['Grand Total'] >= np.percentile(df2_sorted['Grand Total'],80)].OrgId\n",
    "len(set.intersection(set(top_20),set(top_20_soldout)))"
   ]
  },
  {
   "cell_type": "code",
   "execution_count": 38,
   "metadata": {},
   "outputs": [
    {
     "data": {
      "text/plain": [
       "12"
      ]
     },
     "execution_count": 38,
     "metadata": {},
     "output_type": "execute_result"
    }
   ],
   "source": [
    "# There is people who creators who creats high number of videos but not in the range top 20 percentile GMV \n",
    "len(set(top_20) - set(top_20_soldout))"
   ]
  },
  {
   "cell_type": "code",
   "execution_count": 39,
   "metadata": {
    "scrolled": true
   },
   "outputs": [
    {
     "name": "stdout",
     "output_type": "stream",
     "text": [
      "Top Content creators with very low engagement contents : {'C225', 'C54', 'C171', 'C121', 'C224', 'C69', 'C149', 'C89', 'C199', 'C172', 'C147', 'C214'}\n"
     ]
    }
   ],
   "source": [
    "print('Top Content creators with very low engagement contents :',set(top_20) - set(top_20_soldout))"
   ]
  },
  {
   "cell_type": "markdown",
   "metadata": {},
   "source": [
    "These 12 people should review their contents since they are not in the that range where most of the videos are sold.\n",
    "\n",
    "But They are in the range of most consistent one and if they are still producing gaining profit, then it indicates that they have high price of selling"
   ]
  },
  {
   "cell_type": "markdown",
   "metadata": {},
   "source": [
    "### Check if there is a diffence between months of producing and selling"
   ]
  },
  {
   "cell_type": "markdown",
   "metadata": {},
   "source": [
    "Transaction and GMV datasets are replicating each others, also timing of buying and selling of thosem I doubt that they are live classes or contents with limited access"
   ]
  },
  {
   "cell_type": "code",
   "execution_count": 40,
   "metadata": {},
   "outputs": [],
   "source": [
    "def exists(x):\n",
    "    if x !=0: return 1\n",
    "    return 0"
   ]
  },
  {
   "cell_type": "code",
   "execution_count": 41,
   "metadata": {},
   "outputs": [
    {
     "name": "stdout",
     "output_type": "stream",
     "text": [
      " Print number non_live classes monthwise \n",
      " {\"Jun'19\": 0, \"Jul'19\": 0, \"Aug'19\": 0, \"Sep'19\": 0, \"Oct'19\": 0, \"Nov'19\": 0, \"Dec'19\": 0, \"Jan'20\": 0, \"Feb'20\": 0, \"Mar'20 \": 0, \"Apr'20\": 0}\n"
     ]
    }
   ],
   "source": [
    "non_live = {}\n",
    "for i in colms:\n",
    "    non_live[i] = np.sum(df1[i].apply(exists) - df2[i].apply(exists)) #Each column exist will non zero value and return 1\n",
    "print(\" Print number non_live classes monthwise \\n\", non_live)   "
   ]
  },
  {
   "cell_type": "markdown",
   "metadata": {},
   "source": [
    "Seems like my assumption is true that all these contents are live or have a expiry date of access"
   ]
  },
  {
   "cell_type": "markdown",
   "metadata": {},
   "source": [
    "## Watch per video Table"
   ]
  },
  {
   "cell_type": "code",
   "execution_count": 42,
   "metadata": {
    "scrolled": true
   },
   "outputs": [
    {
     "data": {
      "text/html": [
       "<div>\n",
       "<style scoped>\n",
       "    .dataframe tbody tr th:only-of-type {\n",
       "        vertical-align: middle;\n",
       "    }\n",
       "\n",
       "    .dataframe tbody tr th {\n",
       "        vertical-align: top;\n",
       "    }\n",
       "\n",
       "    .dataframe thead th {\n",
       "        text-align: right;\n",
       "    }\n",
       "</style>\n",
       "<table border=\"1\" class=\"dataframe\">\n",
       "  <thead>\n",
       "    <tr style=\"text-align: right;\">\n",
       "      <th></th>\n",
       "      <th>Jun'19</th>\n",
       "      <th>Jul'19</th>\n",
       "      <th>Aug'19</th>\n",
       "      <th>Sep'19</th>\n",
       "      <th>Oct'19</th>\n",
       "      <th>Nov'19</th>\n",
       "      <th>Dec'19</th>\n",
       "      <th>Jan'20</th>\n",
       "      <th>Feb'20</th>\n",
       "      <th>Mar'20</th>\n",
       "      <th>Apr'20</th>\n",
       "      <th>Grand Total</th>\n",
       "      <th>OrgId</th>\n",
       "    </tr>\n",
       "  </thead>\n",
       "  <tbody>\n",
       "    <tr>\n",
       "      <th>0</th>\n",
       "      <td>49.999999</td>\n",
       "      <td>0.0</td>\n",
       "      <td>0.000000</td>\n",
       "      <td>0.0</td>\n",
       "      <td>0.0</td>\n",
       "      <td>0.000000</td>\n",
       "      <td>0.000000</td>\n",
       "      <td>0.000000</td>\n",
       "      <td>0.000000</td>\n",
       "      <td>500.000014</td>\n",
       "      <td>0.000000</td>\n",
       "      <td>200.000004</td>\n",
       "      <td>C1</td>\n",
       "    </tr>\n",
       "    <tr>\n",
       "      <th>1</th>\n",
       "      <td>0.000000</td>\n",
       "      <td>0.0</td>\n",
       "      <td>0.000000</td>\n",
       "      <td>0.0</td>\n",
       "      <td>0.0</td>\n",
       "      <td>0.000000</td>\n",
       "      <td>993.000006</td>\n",
       "      <td>0.000000</td>\n",
       "      <td>0.000000</td>\n",
       "      <td>0.000000</td>\n",
       "      <td>990.000010</td>\n",
       "      <td>991.285722</td>\n",
       "      <td>C2</td>\n",
       "    </tr>\n",
       "    <tr>\n",
       "      <th>2</th>\n",
       "      <td>0.000000</td>\n",
       "      <td>0.0</td>\n",
       "      <td>0.000000</td>\n",
       "      <td>0.0</td>\n",
       "      <td>0.0</td>\n",
       "      <td>0.000000</td>\n",
       "      <td>0.000000</td>\n",
       "      <td>0.000000</td>\n",
       "      <td>0.000000</td>\n",
       "      <td>0.000000</td>\n",
       "      <td>5.183098</td>\n",
       "      <td>5.183098</td>\n",
       "      <td>C3</td>\n",
       "    </tr>\n",
       "    <tr>\n",
       "      <th>3</th>\n",
       "      <td>0.000000</td>\n",
       "      <td>0.0</td>\n",
       "      <td>0.000000</td>\n",
       "      <td>0.0</td>\n",
       "      <td>0.0</td>\n",
       "      <td>0.000000</td>\n",
       "      <td>300.000005</td>\n",
       "      <td>0.000000</td>\n",
       "      <td>3573.333212</td>\n",
       "      <td>64.499999</td>\n",
       "      <td>10.000000</td>\n",
       "      <td>1594.142805</td>\n",
       "      <td>C4</td>\n",
       "    </tr>\n",
       "    <tr>\n",
       "      <th>4</th>\n",
       "      <td>0.000000</td>\n",
       "      <td>1.0</td>\n",
       "      <td>999.999956</td>\n",
       "      <td>0.0</td>\n",
       "      <td>0.0</td>\n",
       "      <td>1000.000019</td>\n",
       "      <td>0.000000</td>\n",
       "      <td>0.000000</td>\n",
       "      <td>1.000000</td>\n",
       "      <td>0.000000</td>\n",
       "      <td>0.000000</td>\n",
       "      <td>800.200009</td>\n",
       "      <td>C5</td>\n",
       "    </tr>\n",
       "    <tr>\n",
       "      <th>...</th>\n",
       "      <td>...</td>\n",
       "      <td>...</td>\n",
       "      <td>...</td>\n",
       "      <td>...</td>\n",
       "      <td>...</td>\n",
       "      <td>...</td>\n",
       "      <td>...</td>\n",
       "      <td>...</td>\n",
       "      <td>...</td>\n",
       "      <td>...</td>\n",
       "      <td>...</td>\n",
       "      <td>...</td>\n",
       "      <td>...</td>\n",
       "    </tr>\n",
       "    <tr>\n",
       "      <th>229</th>\n",
       "      <td>0.000000</td>\n",
       "      <td>0.0</td>\n",
       "      <td>0.000000</td>\n",
       "      <td>0.0</td>\n",
       "      <td>0.0</td>\n",
       "      <td>0.000000</td>\n",
       "      <td>0.000000</td>\n",
       "      <td>0.000000</td>\n",
       "      <td>0.000000</td>\n",
       "      <td>2.010000</td>\n",
       "      <td>2.010000</td>\n",
       "      <td>2.010000</td>\n",
       "      <td>C230</td>\n",
       "    </tr>\n",
       "    <tr>\n",
       "      <th>230</th>\n",
       "      <td>0.000000</td>\n",
       "      <td>0.0</td>\n",
       "      <td>0.000000</td>\n",
       "      <td>0.0</td>\n",
       "      <td>0.0</td>\n",
       "      <td>0.000000</td>\n",
       "      <td>1200.000029</td>\n",
       "      <td>0.000000</td>\n",
       "      <td>0.000000</td>\n",
       "      <td>20.000001</td>\n",
       "      <td>0.000000</td>\n",
       "      <td>413.333343</td>\n",
       "      <td>C231</td>\n",
       "    </tr>\n",
       "    <tr>\n",
       "      <th>231</th>\n",
       "      <td>0.000000</td>\n",
       "      <td>0.0</td>\n",
       "      <td>0.000000</td>\n",
       "      <td>0.0</td>\n",
       "      <td>0.0</td>\n",
       "      <td>0.000000</td>\n",
       "      <td>49.999999</td>\n",
       "      <td>0.000000</td>\n",
       "      <td>0.000000</td>\n",
       "      <td>2.010000</td>\n",
       "      <td>27.500000</td>\n",
       "      <td>31.402000</td>\n",
       "      <td>C232</td>\n",
       "    </tr>\n",
       "    <tr>\n",
       "      <th>232</th>\n",
       "      <td>0.000000</td>\n",
       "      <td>0.0</td>\n",
       "      <td>0.000000</td>\n",
       "      <td>0.0</td>\n",
       "      <td>0.0</td>\n",
       "      <td>0.000000</td>\n",
       "      <td>0.000000</td>\n",
       "      <td>0.000000</td>\n",
       "      <td>0.000000</td>\n",
       "      <td>246.333343</td>\n",
       "      <td>95.299999</td>\n",
       "      <td>100.759035</td>\n",
       "      <td>C233</td>\n",
       "    </tr>\n",
       "    <tr>\n",
       "      <th>233</th>\n",
       "      <td>0.000000</td>\n",
       "      <td>0.0</td>\n",
       "      <td>0.000000</td>\n",
       "      <td>1.0</td>\n",
       "      <td>0.0</td>\n",
       "      <td>0.000000</td>\n",
       "      <td>100.500003</td>\n",
       "      <td>399.000011</td>\n",
       "      <td>191.857146</td>\n",
       "      <td>131.000002</td>\n",
       "      <td>205.315791</td>\n",
       "      <td>169.625002</td>\n",
       "      <td>C234</td>\n",
       "    </tr>\n",
       "  </tbody>\n",
       "</table>\n",
       "<p>234 rows × 13 columns</p>\n",
       "</div>"
      ],
      "text/plain": [
       "        Jun'19  Jul'19      Aug'19  Sep'19  Oct'19       Nov'19       Dec'19  \\\n",
       "0    49.999999     0.0    0.000000     0.0     0.0     0.000000     0.000000   \n",
       "1     0.000000     0.0    0.000000     0.0     0.0     0.000000   993.000006   \n",
       "2     0.000000     0.0    0.000000     0.0     0.0     0.000000     0.000000   \n",
       "3     0.000000     0.0    0.000000     0.0     0.0     0.000000   300.000005   \n",
       "4     0.000000     1.0  999.999956     0.0     0.0  1000.000019     0.000000   \n",
       "..         ...     ...         ...     ...     ...          ...          ...   \n",
       "229   0.000000     0.0    0.000000     0.0     0.0     0.000000     0.000000   \n",
       "230   0.000000     0.0    0.000000     0.0     0.0     0.000000  1200.000029   \n",
       "231   0.000000     0.0    0.000000     0.0     0.0     0.000000    49.999999   \n",
       "232   0.000000     0.0    0.000000     0.0     0.0     0.000000     0.000000   \n",
       "233   0.000000     0.0    0.000000     1.0     0.0     0.000000   100.500003   \n",
       "\n",
       "         Jan'20       Feb'20     Mar'20       Apr'20  Grand Total OrgId  \n",
       "0      0.000000     0.000000  500.000014    0.000000   200.000004    C1  \n",
       "1      0.000000     0.000000    0.000000  990.000010   991.285722    C2  \n",
       "2      0.000000     0.000000    0.000000    5.183098     5.183098    C3  \n",
       "3      0.000000  3573.333212   64.499999   10.000000  1594.142805    C4  \n",
       "4      0.000000     1.000000    0.000000    0.000000   800.200009    C5  \n",
       "..          ...          ...         ...         ...          ...   ...  \n",
       "229    0.000000     0.000000    2.010000    2.010000     2.010000  C230  \n",
       "230    0.000000     0.000000   20.000001    0.000000   413.333343  C231  \n",
       "231    0.000000     0.000000    2.010000   27.500000    31.402000  C232  \n",
       "232    0.000000     0.000000  246.333343   95.299999   100.759035  C233  \n",
       "233  399.000011   191.857146  131.000002  205.315791   169.625002  C234  \n",
       "\n",
       "[234 rows x 13 columns]"
      ]
     },
     "execution_count": 42,
     "metadata": {},
     "output_type": "execute_result"
    }
   ],
   "source": [
    "df_frqnc = df2.iloc[:,1:]/df1.iloc[:,1:]\n",
    "df_frqnc['OrgId'] = df1.OrgId\n",
    "df_frqnc.fillna(0)"
   ]
  },
  {
   "cell_type": "code",
   "execution_count": 43,
   "metadata": {},
   "outputs": [
    {
     "data": {
      "text/html": [
       "<div>\n",
       "<style scoped>\n",
       "    .dataframe tbody tr th:only-of-type {\n",
       "        vertical-align: middle;\n",
       "    }\n",
       "\n",
       "    .dataframe tbody tr th {\n",
       "        vertical-align: top;\n",
       "    }\n",
       "\n",
       "    .dataframe thead th {\n",
       "        text-align: right;\n",
       "    }\n",
       "</style>\n",
       "<table border=\"1\" class=\"dataframe\">\n",
       "  <thead>\n",
       "    <tr style=\"text-align: right;\">\n",
       "      <th></th>\n",
       "      <th>Jun'19</th>\n",
       "      <th>Jul'19</th>\n",
       "      <th>Aug'19</th>\n",
       "      <th>Sep'19</th>\n",
       "      <th>Oct'19</th>\n",
       "      <th>Nov'19</th>\n",
       "      <th>Dec'19</th>\n",
       "      <th>Jan'20</th>\n",
       "      <th>Feb'20</th>\n",
       "      <th>Mar'20</th>\n",
       "      <th>Apr'20</th>\n",
       "      <th>Grand Total</th>\n",
       "    </tr>\n",
       "  </thead>\n",
       "  <tbody>\n",
       "    <tr>\n",
       "      <th>0</th>\n",
       "      <td>-0.574312</td>\n",
       "      <td>NaN</td>\n",
       "      <td>NaN</td>\n",
       "      <td>NaN</td>\n",
       "      <td>NaN</td>\n",
       "      <td>NaN</td>\n",
       "      <td>NaN</td>\n",
       "      <td>NaN</td>\n",
       "      <td>NaN</td>\n",
       "      <td>-0.141560</td>\n",
       "      <td>NaN</td>\n",
       "      <td>-0.263574</td>\n",
       "    </tr>\n",
       "    <tr>\n",
       "      <th>1</th>\n",
       "      <td>NaN</td>\n",
       "      <td>NaN</td>\n",
       "      <td>NaN</td>\n",
       "      <td>NaN</td>\n",
       "      <td>NaN</td>\n",
       "      <td>NaN</td>\n",
       "      <td>-0.075481</td>\n",
       "      <td>NaN</td>\n",
       "      <td>NaN</td>\n",
       "      <td>NaN</td>\n",
       "      <td>0.022960</td>\n",
       "      <td>0.102643</td>\n",
       "    </tr>\n",
       "    <tr>\n",
       "      <th>2</th>\n",
       "      <td>NaN</td>\n",
       "      <td>NaN</td>\n",
       "      <td>NaN</td>\n",
       "      <td>NaN</td>\n",
       "      <td>NaN</td>\n",
       "      <td>NaN</td>\n",
       "      <td>NaN</td>\n",
       "      <td>NaN</td>\n",
       "      <td>NaN</td>\n",
       "      <td>NaN</td>\n",
       "      <td>-0.334719</td>\n",
       "      <td>-0.353738</td>\n",
       "    </tr>\n",
       "    <tr>\n",
       "      <th>3</th>\n",
       "      <td>NaN</td>\n",
       "      <td>NaN</td>\n",
       "      <td>NaN</td>\n",
       "      <td>NaN</td>\n",
       "      <td>NaN</td>\n",
       "      <td>NaN</td>\n",
       "      <td>-0.363461</td>\n",
       "      <td>NaN</td>\n",
       "      <td>0.520342</td>\n",
       "      <td>-0.270790</td>\n",
       "      <td>-0.332969</td>\n",
       "      <td>0.381652</td>\n",
       "    </tr>\n",
       "    <tr>\n",
       "      <th>4</th>\n",
       "      <td>NaN</td>\n",
       "      <td>-0.521375</td>\n",
       "      <td>-0.026307</td>\n",
       "      <td>NaN</td>\n",
       "      <td>NaN</td>\n",
       "      <td>-0.083452</td>\n",
       "      <td>NaN</td>\n",
       "      <td>NaN</td>\n",
       "      <td>-0.420586</td>\n",
       "      <td>NaN</td>\n",
       "      <td>NaN</td>\n",
       "      <td>0.014206</td>\n",
       "    </tr>\n",
       "    <tr>\n",
       "      <th>...</th>\n",
       "      <td>...</td>\n",
       "      <td>...</td>\n",
       "      <td>...</td>\n",
       "      <td>...</td>\n",
       "      <td>...</td>\n",
       "      <td>...</td>\n",
       "      <td>...</td>\n",
       "      <td>...</td>\n",
       "      <td>...</td>\n",
       "      <td>...</td>\n",
       "      <td>...</td>\n",
       "      <td>...</td>\n",
       "    </tr>\n",
       "    <tr>\n",
       "      <th>229</th>\n",
       "      <td>NaN</td>\n",
       "      <td>NaN</td>\n",
       "      <td>NaN</td>\n",
       "      <td>NaN</td>\n",
       "      <td>NaN</td>\n",
       "      <td>NaN</td>\n",
       "      <td>NaN</td>\n",
       "      <td>NaN</td>\n",
       "      <td>NaN</td>\n",
       "      <td>-0.289333</td>\n",
       "      <td>-0.335871</td>\n",
       "      <td>-0.355206</td>\n",
       "    </tr>\n",
       "    <tr>\n",
       "      <th>230</th>\n",
       "      <td>NaN</td>\n",
       "      <td>NaN</td>\n",
       "      <td>NaN</td>\n",
       "      <td>NaN</td>\n",
       "      <td>NaN</td>\n",
       "      <td>NaN</td>\n",
       "      <td>0.010539</td>\n",
       "      <td>NaN</td>\n",
       "      <td>NaN</td>\n",
       "      <td>-0.283994</td>\n",
       "      <td>NaN</td>\n",
       "      <td>-0.164841</td>\n",
       "    </tr>\n",
       "    <tr>\n",
       "      <th>231</th>\n",
       "      <td>NaN</td>\n",
       "      <td>NaN</td>\n",
       "      <td>NaN</td>\n",
       "      <td>NaN</td>\n",
       "      <td>NaN</td>\n",
       "      <td>NaN</td>\n",
       "      <td>-0.467350</td>\n",
       "      <td>NaN</td>\n",
       "      <td>NaN</td>\n",
       "      <td>-0.289333</td>\n",
       "      <td>-0.326614</td>\n",
       "      <td>-0.341603</td>\n",
       "    </tr>\n",
       "    <tr>\n",
       "      <th>232</th>\n",
       "      <td>NaN</td>\n",
       "      <td>NaN</td>\n",
       "      <td>NaN</td>\n",
       "      <td>NaN</td>\n",
       "      <td>NaN</td>\n",
       "      <td>NaN</td>\n",
       "      <td>NaN</td>\n",
       "      <td>NaN</td>\n",
       "      <td>NaN</td>\n",
       "      <td>-0.216833</td>\n",
       "      <td>-0.301989</td>\n",
       "      <td>-0.309504</td>\n",
       "    </tr>\n",
       "    <tr>\n",
       "      <th>233</th>\n",
       "      <td>NaN</td>\n",
       "      <td>NaN</td>\n",
       "      <td>NaN</td>\n",
       "      <td>-0.546296</td>\n",
       "      <td>NaN</td>\n",
       "      <td>NaN</td>\n",
       "      <td>-0.446365</td>\n",
       "      <td>-0.269858</td>\n",
       "      <td>-0.370316</td>\n",
       "      <td>-0.251057</td>\n",
       "      <td>-0.262032</td>\n",
       "      <td>-0.277632</td>\n",
       "    </tr>\n",
       "  </tbody>\n",
       "</table>\n",
       "<p>234 rows × 12 columns</p>\n",
       "</div>"
      ],
      "text/plain": [
       "       Jun'19    Jul'19    Aug'19    Sep'19  Oct'19    Nov'19    Dec'19  \\\n",
       "0   -0.574312       NaN       NaN       NaN     NaN       NaN       NaN   \n",
       "1         NaN       NaN       NaN       NaN     NaN       NaN -0.075481   \n",
       "2         NaN       NaN       NaN       NaN     NaN       NaN       NaN   \n",
       "3         NaN       NaN       NaN       NaN     NaN       NaN -0.363461   \n",
       "4         NaN -0.521375 -0.026307       NaN     NaN -0.083452       NaN   \n",
       "..        ...       ...       ...       ...     ...       ...       ...   \n",
       "229       NaN       NaN       NaN       NaN     NaN       NaN       NaN   \n",
       "230       NaN       NaN       NaN       NaN     NaN       NaN  0.010539   \n",
       "231       NaN       NaN       NaN       NaN     NaN       NaN -0.467350   \n",
       "232       NaN       NaN       NaN       NaN     NaN       NaN       NaN   \n",
       "233       NaN       NaN       NaN -0.546296     NaN       NaN -0.446365   \n",
       "\n",
       "       Jan'20    Feb'20   Mar'20     Apr'20  Grand Total  \n",
       "0         NaN       NaN -0.141560       NaN    -0.263574  \n",
       "1         NaN       NaN       NaN  0.022960     0.102643  \n",
       "2         NaN       NaN       NaN -0.334719    -0.353738  \n",
       "3         NaN  0.520342 -0.270790 -0.332969     0.381652  \n",
       "4         NaN -0.420586       NaN       NaN     0.014206  \n",
       "..        ...       ...       ...       ...          ...  \n",
       "229       NaN       NaN -0.289333 -0.335871    -0.355206  \n",
       "230       NaN       NaN -0.283994       NaN    -0.164841  \n",
       "231       NaN       NaN -0.289333 -0.326614    -0.341603  \n",
       "232       NaN       NaN -0.216833 -0.301989    -0.309504  \n",
       "233 -0.269858 -0.370316 -0.251057 -0.262032    -0.277632  \n",
       "\n",
       "[234 rows x 12 columns]"
      ]
     },
     "execution_count": 43,
     "metadata": {},
     "output_type": "execute_result"
    }
   ],
   "source": [
    "df_frqnc.drop(columns = 'OrgId').apply(lambda x :( x - x.mean())/x.std(ddof = 0))"
   ]
  },
  {
   "cell_type": "code",
   "execution_count": 45,
   "metadata": {},
   "outputs": [
    {
     "data": {
      "text/plain": [
       "array([[-0.57431179,         nan,         nan, ..., -0.14156039,\n",
       "                nan, -0.26357405],\n",
       "       [        nan,         nan,         nan, ...,         nan,\n",
       "         0.02296045,  0.1026425 ],\n",
       "       [        nan,         nan,         nan, ...,         nan,\n",
       "        -0.33471893, -0.35373765],\n",
       "       ...,\n",
       "       [        nan,         nan,         nan, ..., -0.28933276,\n",
       "        -0.32661357, -0.34160323],\n",
       "       [        nan,         nan,         nan, ..., -0.21683284,\n",
       "        -0.30198903, -0.30950396],\n",
       "       [        nan,         nan,         nan, ..., -0.25105658,\n",
       "        -0.26203198, -0.27763196]])"
      ]
     },
     "execution_count": 45,
     "metadata": {},
     "output_type": "execute_result"
    }
   ],
   "source": [
    "from sklearn.preprocessing import StandardScaler\n",
    "StandardScaler().fit_transform(df_frqnc.drop(columns = 'OrgId'))"
   ]
  },
  {
   "cell_type": "code",
   "execution_count": 46,
   "metadata": {},
   "outputs": [
    {
     "data": {
      "image/png": "[encoded data removed]",
      "text/plain": [
       "<Figure size 1440x576 with 4 Axes>"
      ]
     },
     "metadata": {
      "needs_background": "light"
     },
     "output_type": "display_data"
    }
   ],
   "source": [
    "\n",
    "#plt.figure(figsize= (10,10))\n",
    "\n",
    "fig, axis = plt.subplots( nrows= 2,ncols=2, figsize=(20, 8))\n",
    "\n",
    "\n",
    "#colms2 = df2.columns[1:-1]\n",
    "\n",
    "sns.barplot(x = colms, y= [df_frqnc[i].sum() for i in colms], ax = axis[0,0]).set(title='Total Watch per Video Per Month')\n",
    "sns.lineplot(x = colms, y= [df_frqnc[i].sum() for i in colms], ax = axis[0,0]).set(title='Total Watch per Video Per Month')\n",
    "\n",
    "sns.barplot(x = colms, y= [df_frqnc[i].mean() for i in colms], ax = axis[0,1]).set(title='Mean Watch per Video Per Month')\n",
    "sns.lineplot(x = colms, y= [df_frqnc[i].mean() for i in colms], ax = axis[0,1]).set(title='Mean Watch per Video Per Month')\n",
    "\n",
    "sns.barplot(x = colms, y= [df_frqnc[i].std() for i in colms], ax = axis[1,0]).set(title='Deviation Watch per Video Per Month')\n",
    "sns.lineplot(x = colms, y= [df_frqnc[i].std() for i in colms], ax = axis[1,0]).set(title='Deviation Watch per Video Per Month')\n",
    "\n",
    "sns.barplot(x = colms, y= [df_frqnc[i].median() for i in colms], ax = axis[1,1]).set(title='Median of Watch per Video Per Month')\n",
    "sns.lineplot(x = colms, y= [df_frqnc[i].median() for i in colms], ax = axis[1,1]).set(title='Median of Watch per Video Per Month')\n",
    "plt.show()"
   ]
  },
  {
   "cell_type": "markdown",
   "metadata": {},
   "source": [
    "Seems Like watch per videos are decresing with time reason must audience now have more number of options since there is too many courses to buy.\n",
    "\n",
    "**Also we should focus on bringing more cutomers or it may have some adverse effects on our content creators"
   ]
  },
  {
   "cell_type": "code",
   "execution_count": 47,
   "metadata": {},
   "outputs": [],
   "source": [
    "df1_sorted = df1.sort_values('Grand Total')"
   ]
  },
  {
   "cell_type": "code",
   "execution_count": 48,
   "metadata": {},
   "outputs": [
    {
     "data": {
      "image/png": "[encoded data removed]",
      "text/plain": [
       "<Figure size 1440x720 with 1 Axes>"
      ]
     },
     "metadata": {
      "needs_background": "light"
     },
     "output_type": "display_data"
    }
   ],
   "source": [
    "plt.figure(figsize = (20,10))\n",
    "df_frqnc[colms].boxplot(grid=True, fontsize=10)\n",
    "plt.title(\" Box Plot For each of months total watch per video\")\n",
    "plt.show()"
   ]
  },
  {
   "cell_type": "markdown",
   "metadata": {},
   "source": [
    "Scenario is also same here"
   ]
  },
  {
   "cell_type": "code",
   "execution_count": 49,
   "metadata": {
    "scrolled": false
   },
   "outputs": [
    {
     "data": {
      "image/png": "[encoded data removed]",
      "text/plain": [
       "<Figure size 1440x576 with 1 Axes>"
      ]
     },
     "metadata": {
      "needs_background": "light"
     },
     "output_type": "display_data"
    }
   ],
   "source": [
    "plt.figure(figsize = (20,8))\n",
    "plt.title(\"Scatter of total video buy vs sell\")\n",
    "plt.scatter(df2['Grand Total'],df1['Grand Total'])\n",
    "\n",
    "plt.show()"
   ]
  },
  {
   "cell_type": "markdown",
   "metadata": {},
   "source": [
    "The relation seems to be linear"
   ]
  },
  {
   "cell_type": "markdown",
   "metadata": {},
   "source": [
    "# RFM Analysis"
   ]
  },
  {
   "cell_type": "code",
   "execution_count": 50,
   "metadata": {
    "scrolled": false
   },
   "outputs": [],
   "source": [
    "# Function to get recency for creator\n",
    "def get_index(l):\n",
    "    l = list(l)\n",
    "    a = 0\n",
    "    for i in range(len(l)):\n",
    "        if l[i]!= 0: a = i\n",
    "    return a"
   ]
  },
  {
   "cell_type": "code",
   "execution_count": 51,
   "metadata": {},
   "outputs": [],
   "source": [
    "# To Get Last date of content creation\n",
    "r = []\n",
    "for i in range(len(df1)):\n",
    "    index = get_index(df1.iloc[i,1:-1])\n",
    "    rd = 11 - index\n",
    "    r.append(rd)\n",
    "        "
   ]
  },
  {
   "cell_type": "code",
   "execution_count": 52,
   "metadata": {},
   "outputs": [],
   "source": [
    "def get_rank(x, l):\n",
    "    l_25, l_50, l_75, l_100 = np.percentile(l,25),np.percentile(l,50), np.percentile(l,75), np.percentile(l,100)\n",
    "    if x <= l_25 : return 4\n",
    "    elif x > l_25 and x <= l_50: return 3\n",
    "    elif x> l_50 and x<= l_75: return 2\n",
    "    else: return 1"
   ]
  },
  {
   "cell_type": "code",
   "execution_count": 53,
   "metadata": {},
   "outputs": [],
   "source": [
    "df_rfm = pd.DataFrame(zip(df1['OrgId'],r,df1['Grand Total'],df2['Grand Total']),columns= ['Id','Last Update','Total Videos','GMV'])"
   ]
  },
  {
   "cell_type": "code",
   "execution_count": 54,
   "metadata": {},
   "outputs": [],
   "source": [
    "r_score = []\n",
    "\n",
    "for i in df_rfm['Last Update']:\n",
    "    if i <= 2: \n",
    "        r_score.append(1) \n",
    "        continue\n",
    "    elif i >2 and i <= 4:\n",
    "        r_score.append(2)\n",
    "        continue\n",
    "    elif i > 4 and i <=7:\n",
    "        r_score.append(3)\n",
    "        continue\n",
    "    else : r_score.append(4)"
   ]
  },
  {
   "cell_type": "code",
   "execution_count": 55,
   "metadata": {},
   "outputs": [],
   "source": [
    "f_score = [get_rank(i, df_rfm['Total Videos']) for i in df_rfm['Total Videos'] ]\n",
    "m_score = [get_rank(i, df_rfm['GMV']) for i in df_rfm['GMV'] ]"
   ]
  },
  {
   "cell_type": "code",
   "execution_count": 56,
   "metadata": {},
   "outputs": [
    {
     "data": {
      "text/html": [
       "<div>\n",
       "<style scoped>\n",
       "    .dataframe tbody tr th:only-of-type {\n",
       "        vertical-align: middle;\n",
       "    }\n",
       "\n",
       "    .dataframe tbody tr th {\n",
       "        vertical-align: top;\n",
       "    }\n",
       "\n",
       "    .dataframe thead th {\n",
       "        text-align: right;\n",
       "    }\n",
       "</style>\n",
       "<table border=\"1\" class=\"dataframe\">\n",
       "  <thead>\n",
       "    <tr style=\"text-align: right;\">\n",
       "      <th></th>\n",
       "      <th>Id</th>\n",
       "      <th>Last Update</th>\n",
       "      <th>Total Videos</th>\n",
       "      <th>GMV</th>\n",
       "      <th>F_Score</th>\n",
       "      <th>M_Score</th>\n",
       "      <th>R_Score</th>\n",
       "      <th>RFM</th>\n",
       "    </tr>\n",
       "  </thead>\n",
       "  <tbody>\n",
       "    <tr>\n",
       "      <th>0</th>\n",
       "      <td>C1</td>\n",
       "      <td>2</td>\n",
       "      <td>3</td>\n",
       "      <td>600.000012</td>\n",
       "      <td>4</td>\n",
       "      <td>3</td>\n",
       "      <td>1</td>\n",
       "      <td>143</td>\n",
       "    </tr>\n",
       "    <tr>\n",
       "      <th>1</th>\n",
       "      <td>C2</td>\n",
       "      <td>1</td>\n",
       "      <td>7</td>\n",
       "      <td>6939.000057</td>\n",
       "      <td>3</td>\n",
       "      <td>2</td>\n",
       "      <td>1</td>\n",
       "      <td>132</td>\n",
       "    </tr>\n",
       "    <tr>\n",
       "      <th>2</th>\n",
       "      <td>C3</td>\n",
       "      <td>1</td>\n",
       "      <td>71</td>\n",
       "      <td>367.999990</td>\n",
       "      <td>2</td>\n",
       "      <td>3</td>\n",
       "      <td>1</td>\n",
       "      <td>123</td>\n",
       "    </tr>\n",
       "    <tr>\n",
       "      <th>3</th>\n",
       "      <td>C4</td>\n",
       "      <td>1</td>\n",
       "      <td>7</td>\n",
       "      <td>11158.999637</td>\n",
       "      <td>3</td>\n",
       "      <td>2</td>\n",
       "      <td>1</td>\n",
       "      <td>132</td>\n",
       "    </tr>\n",
       "    <tr>\n",
       "      <th>4</th>\n",
       "      <td>C5</td>\n",
       "      <td>3</td>\n",
       "      <td>10</td>\n",
       "      <td>8002.000090</td>\n",
       "      <td>3</td>\n",
       "      <td>2</td>\n",
       "      <td>2</td>\n",
       "      <td>232</td>\n",
       "    </tr>\n",
       "    <tr>\n",
       "      <th>...</th>\n",
       "      <td>...</td>\n",
       "      <td>...</td>\n",
       "      <td>...</td>\n",
       "      <td>...</td>\n",
       "      <td>...</td>\n",
       "      <td>...</td>\n",
       "      <td>...</td>\n",
       "      <td>...</td>\n",
       "    </tr>\n",
       "    <tr>\n",
       "      <th>229</th>\n",
       "      <td>C230</td>\n",
       "      <td>1</td>\n",
       "      <td>17</td>\n",
       "      <td>34.169999</td>\n",
       "      <td>3</td>\n",
       "      <td>4</td>\n",
       "      <td>1</td>\n",
       "      <td>134</td>\n",
       "    </tr>\n",
       "    <tr>\n",
       "      <th>230</th>\n",
       "      <td>C231</td>\n",
       "      <td>2</td>\n",
       "      <td>3</td>\n",
       "      <td>1240.000030</td>\n",
       "      <td>4</td>\n",
       "      <td>3</td>\n",
       "      <td>1</td>\n",
       "      <td>143</td>\n",
       "    </tr>\n",
       "    <tr>\n",
       "      <th>231</th>\n",
       "      <td>C232</td>\n",
       "      <td>1</td>\n",
       "      <td>5</td>\n",
       "      <td>157.009998</td>\n",
       "      <td>4</td>\n",
       "      <td>3</td>\n",
       "      <td>1</td>\n",
       "      <td>143</td>\n",
       "    </tr>\n",
       "    <tr>\n",
       "      <th>232</th>\n",
       "      <td>C233</td>\n",
       "      <td>1</td>\n",
       "      <td>83</td>\n",
       "      <td>8362.999922</td>\n",
       "      <td>2</td>\n",
       "      <td>2</td>\n",
       "      <td>1</td>\n",
       "      <td>122</td>\n",
       "    </tr>\n",
       "    <tr>\n",
       "      <th>233</th>\n",
       "      <td>C234</td>\n",
       "      <td>1</td>\n",
       "      <td>48</td>\n",
       "      <td>8142.000099</td>\n",
       "      <td>2</td>\n",
       "      <td>2</td>\n",
       "      <td>1</td>\n",
       "      <td>122</td>\n",
       "    </tr>\n",
       "  </tbody>\n",
       "</table>\n",
       "<p>234 rows × 8 columns</p>\n",
       "</div>"
      ],
      "text/plain": [
       "       Id  Last Update  Total Videos           GMV F_Score M_Score R_Score  \\\n",
       "0      C1            2             3    600.000012       4       3       1   \n",
       "1      C2            1             7   6939.000057       3       2       1   \n",
       "2      C3            1            71    367.999990       2       3       1   \n",
       "3      C4            1             7  11158.999637       3       2       1   \n",
       "4      C5            3            10   8002.000090       3       2       2   \n",
       "..    ...          ...           ...           ...     ...     ...     ...   \n",
       "229  C230            1            17     34.169999       3       4       1   \n",
       "230  C231            2             3   1240.000030       4       3       1   \n",
       "231  C232            1             5    157.009998       4       3       1   \n",
       "232  C233            1            83   8362.999922       2       2       1   \n",
       "233  C234            1            48   8142.000099       2       2       1   \n",
       "\n",
       "     RFM  \n",
       "0    143  \n",
       "1    132  \n",
       "2    123  \n",
       "3    132  \n",
       "4    232  \n",
       "..   ...  \n",
       "229  134  \n",
       "230  143  \n",
       "231  143  \n",
       "232  122  \n",
       "233  122  \n",
       "\n",
       "[234 rows x 8 columns]"
      ]
     },
     "execution_count": 56,
     "metadata": {},
     "output_type": "execute_result"
    }
   ],
   "source": [
    "df_rfm['F_Score'] = f_score\n",
    "df_rfm['M_Score'] = m_score\n",
    "df_rfm['R_Score'] = r_score\n",
    "\n",
    "#df_rfm = df_rfm.drop(columns='RFM')\n",
    "df_rfm = df_rfm.astype({'R_Score':'string','F_Score':'string','M_Score':'string'})\n",
    "df_rfm['RFM'] = df_rfm.R_Score + df_rfm.F_Score + df_rfm.M_Score\n",
    "\n",
    "df_rfm"
   ]
  },
  {
   "cell_type": "code",
   "execution_count": 57,
   "metadata": {},
   "outputs": [
    {
     "data": {
      "text/plain": [
       "26"
      ]
     },
     "execution_count": 57,
     "metadata": {},
     "output_type": "execute_result"
    }
   ],
   "source": [
    "len(np.unique(df_rfm.RFM))"
   ]
  },
  {
   "cell_type": "code",
   "execution_count": 58,
   "metadata": {},
   "outputs": [
    {
     "data": {
      "image/png": "[encoded data removed]",
      "text/plain": [
       "<Figure size 720x360 with 1 Axes>"
      ]
     },
     "metadata": {
      "needs_background": "light"
     },
     "output_type": "display_data"
    }
   ],
   "source": [
    "plt.figure(figsize= (10,5))\n",
    "sns.countplot(x = 'RFM', data = df_rfm)\n",
    "plt.show()"
   ]
  },
  {
   "cell_type": "code",
   "execution_count": 59,
   "metadata": {},
   "outputs": [],
   "source": [
    "def rfm_seg(x):\n",
    "    \n",
    "    x = int(x)\n",
    "    if x == 111 : return 'B Creator' # Best Creators\n",
    "    elif x in [112,121,122] : return 'P Creators' # Potentil creators\n",
    "    elif x == 141 or x == 142 : return 'HSN Creator' #Highly sold new creators\n",
    "    elif x == 113 or x == 114 : return 'LSAL Creator'#Low sell active loyal creator at Risk creators\n",
    "    elif x in [411, 412, 421, 422] : return 'Cb Creator' #Churned Best Creators \n",
    "    else : return 'Others'\n",
    "    \n",
    "    "
   ]
  },
  {
   "cell_type": "code",
   "execution_count": 60,
   "metadata": {},
   "outputs": [],
   "source": [
    "df_rfm['RFM Segment'] =  df_rfm.RFM.apply(rfm_seg)"
   ]
  },
  {
   "cell_type": "code",
   "execution_count": 61,
   "metadata": {},
   "outputs": [
    {
     "data": {
      "image/png": "[encoded data removed]",
      "text/plain": [
       "<Figure size 720x504 with 1 Axes>"
      ]
     },
     "metadata": {
      "needs_background": "light"
     },
     "output_type": "display_data"
    }
   ],
   "source": [
    "plt.figure(figsize= (10,7))\n",
    "sns.countplot(x = 'RFM Segment', data = df_rfm)\n",
    "plt.title(\" RFM Segmentation count plot\")\n",
    "plt.show()"
   ]
  },
  {
   "cell_type": "code",
   "execution_count": 62,
   "metadata": {},
   "outputs": [
    {
     "data": {
      "text/plain": [
       "Others          137\n",
       "P Creators       46\n",
       "B Creator        45\n",
       "HSN Creator       4\n",
       "LSAL Creator      2\n",
       "Name: RFM Segment, dtype: int64"
      ]
     },
     "execution_count": 62,
     "metadata": {},
     "output_type": "execute_result"
    }
   ],
   "source": [
    "df_rfm['RFM Segment'].value_counts()"
   ]
  },
  {
   "cell_type": "raw",
   "metadata": {},
   "source": [
    "(B Creator)Best Creators :– Communications with this group should make them feel valued and appreciated. These creators likely generate a disproportionately high percentage of overall revenues and thus focusing on keeping them happy should be a top priority. Further analyzing their individual preferences and affinities will provide additional opportunities for even more personalized messaging.\n",
    "\n",
    "\n",
    "(HSN Creator) High - Earning New Creators :– It is always a good idea to carefully “incubate” all new creators, but because these new creators spent a lot on their first purchase, it’s even more important. Like with the Best Customers group, it’s important to make them feel valued and appreciated – and to give them terrific incentives to continue interacting with the brand. \n",
    "\n",
    "\n",
    "(LSAL Creator) Lowest-Profitable Active Loyal Creators (At Risk creator) :– These frequent creators are active and loyal, but they are low soldout. Marketers should create campaigns for this group that make them feel valued, and incentivize them to increase their spend levels. As loyal customers, it often also pays to reward them with special offers if they spread the word about the brand to their friends, e.g., via social networks.\n",
    "\n",
    "(P Creators) Potential creators :- They are quite promising and high in number. Revenues generated by them is in range 50 - 75 percentile which is not bad, they have good potential of going up in the lader, communcating and undestanding them could be helpful for both of us.\n",
    "\n",
    "(Cb Creator) Churned Best creators – These are valuable creators who stopped transacting a long time ago. While it’s often challenging to re-engage churned creators, the high value of these creators makes it worthwhile trying. Like with the Best creators group, it’s important to communicate with them on the basis of their specific preferences, as known from earlier transaction data."
   ]
  },
  {
   "cell_type": "code",
   "execution_count": 66,
   "metadata": {},
   "outputs": [
    {
     "data": {
      "text/html": [
       "<div>\n",
       "<style scoped>\n",
       "    .dataframe tbody tr th:only-of-type {\n",
       "        vertical-align: middle;\n",
       "    }\n",
       "\n",
       "    .dataframe tbody tr th {\n",
       "        vertical-align: top;\n",
       "    }\n",
       "\n",
       "    .dataframe thead th {\n",
       "        text-align: right;\n",
       "    }\n",
       "</style>\n",
       "<table border=\"1\" class=\"dataframe\">\n",
       "  <thead>\n",
       "    <tr style=\"text-align: right;\">\n",
       "      <th></th>\n",
       "      <th>OrgId</th>\n",
       "      <th>Jun'19_x</th>\n",
       "      <th>Jul'19_x</th>\n",
       "      <th>Aug'19_x</th>\n",
       "      <th>Sep'19_x</th>\n",
       "      <th>Oct'19_x</th>\n",
       "      <th>Nov'19_x</th>\n",
       "      <th>Dec'19_x</th>\n",
       "      <th>Jan'20_x</th>\n",
       "      <th>Feb'20_x</th>\n",
       "      <th>...</th>\n",
       "      <th>Jul'19</th>\n",
       "      <th>Aug'19</th>\n",
       "      <th>Sep'19</th>\n",
       "      <th>Oct'19</th>\n",
       "      <th>Nov'19</th>\n",
       "      <th>Dec'19</th>\n",
       "      <th>Jan'20</th>\n",
       "      <th>Feb'20</th>\n",
       "      <th>Mar'20</th>\n",
       "      <th>Apr'20</th>\n",
       "    </tr>\n",
       "  </thead>\n",
       "  <tbody>\n",
       "    <tr>\n",
       "      <th>0</th>\n",
       "      <td>C1</td>\n",
       "      <td>2.0</td>\n",
       "      <td>0.0</td>\n",
       "      <td>0.0</td>\n",
       "      <td>0.0</td>\n",
       "      <td>0.0</td>\n",
       "      <td>0.0</td>\n",
       "      <td>0.0</td>\n",
       "      <td>0.0</td>\n",
       "      <td>0.0</td>\n",
       "      <td>...</td>\n",
       "      <td>0.0</td>\n",
       "      <td>0.000000</td>\n",
       "      <td>0.0</td>\n",
       "      <td>0.0</td>\n",
       "      <td>0.000000</td>\n",
       "      <td>0.000000</td>\n",
       "      <td>0.000000</td>\n",
       "      <td>0.000000</td>\n",
       "      <td>500.000014</td>\n",
       "      <td>0.000000</td>\n",
       "    </tr>\n",
       "    <tr>\n",
       "      <th>1</th>\n",
       "      <td>C2</td>\n",
       "      <td>0.0</td>\n",
       "      <td>0.0</td>\n",
       "      <td>0.0</td>\n",
       "      <td>0.0</td>\n",
       "      <td>0.0</td>\n",
       "      <td>0.0</td>\n",
       "      <td>3.0</td>\n",
       "      <td>0.0</td>\n",
       "      <td>0.0</td>\n",
       "      <td>...</td>\n",
       "      <td>0.0</td>\n",
       "      <td>0.000000</td>\n",
       "      <td>0.0</td>\n",
       "      <td>0.0</td>\n",
       "      <td>0.000000</td>\n",
       "      <td>993.000006</td>\n",
       "      <td>0.000000</td>\n",
       "      <td>0.000000</td>\n",
       "      <td>0.000000</td>\n",
       "      <td>990.000010</td>\n",
       "    </tr>\n",
       "    <tr>\n",
       "      <th>2</th>\n",
       "      <td>C3</td>\n",
       "      <td>0.0</td>\n",
       "      <td>0.0</td>\n",
       "      <td>0.0</td>\n",
       "      <td>0.0</td>\n",
       "      <td>0.0</td>\n",
       "      <td>0.0</td>\n",
       "      <td>0.0</td>\n",
       "      <td>0.0</td>\n",
       "      <td>0.0</td>\n",
       "      <td>...</td>\n",
       "      <td>0.0</td>\n",
       "      <td>0.000000</td>\n",
       "      <td>0.0</td>\n",
       "      <td>0.0</td>\n",
       "      <td>0.000000</td>\n",
       "      <td>0.000000</td>\n",
       "      <td>0.000000</td>\n",
       "      <td>0.000000</td>\n",
       "      <td>0.000000</td>\n",
       "      <td>5.183098</td>\n",
       "    </tr>\n",
       "    <tr>\n",
       "      <th>3</th>\n",
       "      <td>C4</td>\n",
       "      <td>0.0</td>\n",
       "      <td>0.0</td>\n",
       "      <td>0.0</td>\n",
       "      <td>0.0</td>\n",
       "      <td>0.0</td>\n",
       "      <td>0.0</td>\n",
       "      <td>1.0</td>\n",
       "      <td>0.0</td>\n",
       "      <td>3.0</td>\n",
       "      <td>...</td>\n",
       "      <td>0.0</td>\n",
       "      <td>0.000000</td>\n",
       "      <td>0.0</td>\n",
       "      <td>0.0</td>\n",
       "      <td>0.000000</td>\n",
       "      <td>300.000005</td>\n",
       "      <td>0.000000</td>\n",
       "      <td>3573.333212</td>\n",
       "      <td>64.499999</td>\n",
       "      <td>10.000000</td>\n",
       "    </tr>\n",
       "    <tr>\n",
       "      <th>4</th>\n",
       "      <td>C5</td>\n",
       "      <td>0.0</td>\n",
       "      <td>1.0</td>\n",
       "      <td>1.0</td>\n",
       "      <td>0.0</td>\n",
       "      <td>0.0</td>\n",
       "      <td>7.0</td>\n",
       "      <td>0.0</td>\n",
       "      <td>0.0</td>\n",
       "      <td>1.0</td>\n",
       "      <td>...</td>\n",
       "      <td>1.0</td>\n",
       "      <td>999.999956</td>\n",
       "      <td>0.0</td>\n",
       "      <td>0.0</td>\n",
       "      <td>1000.000019</td>\n",
       "      <td>0.000000</td>\n",
       "      <td>0.000000</td>\n",
       "      <td>1.000000</td>\n",
       "      <td>0.000000</td>\n",
       "      <td>0.000000</td>\n",
       "    </tr>\n",
       "    <tr>\n",
       "      <th>...</th>\n",
       "      <td>...</td>\n",
       "      <td>...</td>\n",
       "      <td>...</td>\n",
       "      <td>...</td>\n",
       "      <td>...</td>\n",
       "      <td>...</td>\n",
       "      <td>...</td>\n",
       "      <td>...</td>\n",
       "      <td>...</td>\n",
       "      <td>...</td>\n",
       "      <td>...</td>\n",
       "      <td>...</td>\n",
       "      <td>...</td>\n",
       "      <td>...</td>\n",
       "      <td>...</td>\n",
       "      <td>...</td>\n",
       "      <td>...</td>\n",
       "      <td>...</td>\n",
       "      <td>...</td>\n",
       "      <td>...</td>\n",
       "      <td>...</td>\n",
       "    </tr>\n",
       "    <tr>\n",
       "      <th>229</th>\n",
       "      <td>C230</td>\n",
       "      <td>0.0</td>\n",
       "      <td>0.0</td>\n",
       "      <td>0.0</td>\n",
       "      <td>0.0</td>\n",
       "      <td>0.0</td>\n",
       "      <td>0.0</td>\n",
       "      <td>0.0</td>\n",
       "      <td>0.0</td>\n",
       "      <td>0.0</td>\n",
       "      <td>...</td>\n",
       "      <td>0.0</td>\n",
       "      <td>0.000000</td>\n",
       "      <td>0.0</td>\n",
       "      <td>0.0</td>\n",
       "      <td>0.000000</td>\n",
       "      <td>0.000000</td>\n",
       "      <td>0.000000</td>\n",
       "      <td>0.000000</td>\n",
       "      <td>2.010000</td>\n",
       "      <td>2.010000</td>\n",
       "    </tr>\n",
       "    <tr>\n",
       "      <th>230</th>\n",
       "      <td>C231</td>\n",
       "      <td>0.0</td>\n",
       "      <td>0.0</td>\n",
       "      <td>0.0</td>\n",
       "      <td>0.0</td>\n",
       "      <td>0.0</td>\n",
       "      <td>0.0</td>\n",
       "      <td>1.0</td>\n",
       "      <td>0.0</td>\n",
       "      <td>0.0</td>\n",
       "      <td>...</td>\n",
       "      <td>0.0</td>\n",
       "      <td>0.000000</td>\n",
       "      <td>0.0</td>\n",
       "      <td>0.0</td>\n",
       "      <td>0.000000</td>\n",
       "      <td>1200.000029</td>\n",
       "      <td>0.000000</td>\n",
       "      <td>0.000000</td>\n",
       "      <td>20.000001</td>\n",
       "      <td>0.000000</td>\n",
       "    </tr>\n",
       "    <tr>\n",
       "      <th>231</th>\n",
       "      <td>C232</td>\n",
       "      <td>0.0</td>\n",
       "      <td>0.0</td>\n",
       "      <td>0.0</td>\n",
       "      <td>0.0</td>\n",
       "      <td>0.0</td>\n",
       "      <td>0.0</td>\n",
       "      <td>2.0</td>\n",
       "      <td>0.0</td>\n",
       "      <td>0.0</td>\n",
       "      <td>...</td>\n",
       "      <td>0.0</td>\n",
       "      <td>0.000000</td>\n",
       "      <td>0.0</td>\n",
       "      <td>0.0</td>\n",
       "      <td>0.000000</td>\n",
       "      <td>49.999999</td>\n",
       "      <td>0.000000</td>\n",
       "      <td>0.000000</td>\n",
       "      <td>2.010000</td>\n",
       "      <td>27.500000</td>\n",
       "    </tr>\n",
       "    <tr>\n",
       "      <th>232</th>\n",
       "      <td>C233</td>\n",
       "      <td>0.0</td>\n",
       "      <td>0.0</td>\n",
       "      <td>0.0</td>\n",
       "      <td>0.0</td>\n",
       "      <td>0.0</td>\n",
       "      <td>0.0</td>\n",
       "      <td>0.0</td>\n",
       "      <td>0.0</td>\n",
       "      <td>0.0</td>\n",
       "      <td>...</td>\n",
       "      <td>0.0</td>\n",
       "      <td>0.000000</td>\n",
       "      <td>0.0</td>\n",
       "      <td>0.0</td>\n",
       "      <td>0.000000</td>\n",
       "      <td>0.000000</td>\n",
       "      <td>0.000000</td>\n",
       "      <td>0.000000</td>\n",
       "      <td>246.333343</td>\n",
       "      <td>95.299999</td>\n",
       "    </tr>\n",
       "    <tr>\n",
       "      <th>233</th>\n",
       "      <td>C234</td>\n",
       "      <td>0.0</td>\n",
       "      <td>0.0</td>\n",
       "      <td>0.0</td>\n",
       "      <td>1.0</td>\n",
       "      <td>0.0</td>\n",
       "      <td>0.0</td>\n",
       "      <td>4.0</td>\n",
       "      <td>1.0</td>\n",
       "      <td>7.0</td>\n",
       "      <td>...</td>\n",
       "      <td>0.0</td>\n",
       "      <td>0.000000</td>\n",
       "      <td>1.0</td>\n",
       "      <td>0.0</td>\n",
       "      <td>0.000000</td>\n",
       "      <td>100.500003</td>\n",
       "      <td>399.000011</td>\n",
       "      <td>191.857146</td>\n",
       "      <td>131.000002</td>\n",
       "      <td>205.315791</td>\n",
       "    </tr>\n",
       "  </tbody>\n",
       "</table>\n",
       "<p>234 rows × 34 columns</p>\n",
       "</div>"
      ],
      "text/plain": [
       "    OrgId  Jun'19_x  Jul'19_x  Aug'19_x  Sep'19_x  Oct'19_x  Nov'19_x  \\\n",
       "0      C1       2.0       0.0       0.0       0.0       0.0       0.0   \n",
       "1      C2       0.0       0.0       0.0       0.0       0.0       0.0   \n",
       "2      C3       0.0       0.0       0.0       0.0       0.0       0.0   \n",
       "3      C4       0.0       0.0       0.0       0.0       0.0       0.0   \n",
       "4      C5       0.0       1.0       1.0       0.0       0.0       7.0   \n",
       "..    ...       ...       ...       ...       ...       ...       ...   \n",
       "229  C230       0.0       0.0       0.0       0.0       0.0       0.0   \n",
       "230  C231       0.0       0.0       0.0       0.0       0.0       0.0   \n",
       "231  C232       0.0       0.0       0.0       0.0       0.0       0.0   \n",
       "232  C233       0.0       0.0       0.0       0.0       0.0       0.0   \n",
       "233  C234       0.0       0.0       0.0       1.0       0.0       0.0   \n",
       "\n",
       "     Dec'19_x  Jan'20_x  Feb'20_x  ...  Jul'19      Aug'19  Sep'19  Oct'19  \\\n",
       "0         0.0       0.0       0.0  ...     0.0    0.000000     0.0     0.0   \n",
       "1         3.0       0.0       0.0  ...     0.0    0.000000     0.0     0.0   \n",
       "2         0.0       0.0       0.0  ...     0.0    0.000000     0.0     0.0   \n",
       "3         1.0       0.0       3.0  ...     0.0    0.000000     0.0     0.0   \n",
       "4         0.0       0.0       1.0  ...     1.0  999.999956     0.0     0.0   \n",
       "..        ...       ...       ...  ...     ...         ...     ...     ...   \n",
       "229       0.0       0.0       0.0  ...     0.0    0.000000     0.0     0.0   \n",
       "230       1.0       0.0       0.0  ...     0.0    0.000000     0.0     0.0   \n",
       "231       2.0       0.0       0.0  ...     0.0    0.000000     0.0     0.0   \n",
       "232       0.0       0.0       0.0  ...     0.0    0.000000     0.0     0.0   \n",
       "233       4.0       1.0       7.0  ...     0.0    0.000000     1.0     0.0   \n",
       "\n",
       "          Nov'19       Dec'19      Jan'20       Feb'20     Mar'20       Apr'20  \n",
       "0       0.000000     0.000000    0.000000     0.000000  500.000014    0.000000  \n",
       "1       0.000000   993.000006    0.000000     0.000000    0.000000  990.000010  \n",
       "2       0.000000     0.000000    0.000000     0.000000    0.000000    5.183098  \n",
       "3       0.000000   300.000005    0.000000  3573.333212   64.499999   10.000000  \n",
       "4    1000.000019     0.000000    0.000000     1.000000    0.000000    0.000000  \n",
       "..           ...          ...         ...          ...         ...         ...  \n",
       "229     0.000000     0.000000    0.000000     0.000000    2.010000    2.010000  \n",
       "230     0.000000  1200.000029    0.000000     0.000000   20.000001    0.000000  \n",
       "231     0.000000    49.999999    0.000000     0.000000    2.010000   27.500000  \n",
       "232     0.000000     0.000000    0.000000     0.000000  246.333343   95.299999  \n",
       "233     0.000000   100.500003  399.000011   191.857146  131.000002  205.315791  \n",
       "\n",
       "[234 rows x 34 columns]"
      ]
     },
     "execution_count": 66,
     "metadata": {},
     "output_type": "execute_result"
    }
   ],
   "source": [
    "#del df\n",
    "df = df1.merge(df2, on= 'OrgId' )\n",
    "df = df.merge(df_frqnc, on = 'OrgId')\n",
    "df = df.drop(columns=['Grand Total','Grand Total_y','Grand Total_x'])\n",
    "df = df.fillna(0)\n",
    "df"
   ]
  },
  {
   "cell_type": "code",
   "execution_count": 67,
   "metadata": {},
   "outputs": [],
   "source": [
    "from sklearn.preprocessing import StandardScaler\n",
    "\n",
    "scaler = StandardScaler()\n",
    "data = scaler.fit_transform(df.drop(columns='OrgId'))"
   ]
  },
  {
   "cell_type": "code",
   "execution_count": 68,
   "metadata": {},
   "outputs": [],
   "source": [
    "from sklearn.manifold import TSNE\n",
    "transform = TSNE \n",
    "\n",
    "trans = transform(n_components=2)\n",
    "creator_embeddings_2d = trans.fit_transform(data) "
   ]
  },
  {
   "cell_type": "code",
   "execution_count": 69,
   "metadata": {
    "scrolled": false
   },
   "outputs": [
    {
     "data": {
      "image/png": "[encoded data removed]",
      "text/plain": [
       "<Figure size 720x720 with 1 Axes>"
      ]
     },
     "metadata": {
      "needs_background": "light"
     },
     "output_type": "display_data"
    }
   ],
   "source": [
    "import numpy as np\n",
    "# draw the points\n",
    "\n",
    "label_map = { l: i for i, l in enumerate(np.unique(df_rfm['RFM Segment']))}\n",
    "node_colours = [ label_map[target] for target in df_rfm['RFM Segment']]\n",
    "\n",
    "\n",
    "fig, ax = plt.subplots(figsize = (10,10))\n",
    "\n",
    "#plt.axes().set(aspect=\"equal\")\n",
    "scatter = ax.scatter(creator_embeddings_2d[:,0], \n",
    "            creator_embeddings_2d[:,1], \n",
    "            alpha=1,c = node_colours)\n",
    "\n",
    "\n",
    "\n",
    "\n",
    "# produce a legend with the unique colors from the scatter\n",
    "legend1 = ax.legend(*scatter.legend_elements(),\n",
    "                    loc=\"lower left\", title=\"Classes\")\n",
    "\n",
    "plt.title('RFM visualization of Actor node embeddings')\n",
    "\n",
    "plt.show()"
   ]
  },
  {
   "cell_type": "code",
   "execution_count": 70,
   "metadata": {},
   "outputs": [
    {
     "data": {
      "text/plain": [
       "{'B Creator': 0,\n",
       " 'HSN Creator': 1,\n",
       " 'LSAL Creator': 2,\n",
       " 'Others': 3,\n",
       " 'P Creators': 4}"
      ]
     },
     "execution_count": 70,
     "metadata": {},
     "output_type": "execute_result"
    }
   ],
   "source": [
    "label_map"
   ]
  },
  {
   "cell_type": "markdown",
   "metadata": {},
   "source": [
    "# Segmentation using unsupervised machine learning like K-Means and DB Scan"
   ]
  },
  {
   "cell_type": "markdown",
   "metadata": {},
   "source": [
    "## K-Means Clustering"
   ]
  },
  {
   "cell_type": "code",
   "execution_count": 71,
   "metadata": {
    "scrolled": true
   },
   "outputs": [],
   "source": [
    "from sklearn.cluster import KMeans\n",
    "from sklearn.cluster import DBSCAN\n",
    "from sklearn.metrics import silhouette_score\n",
    "import warnings \n",
    "warnings.filterwarnings(\"ignore\")"
   ]
  },
  {
   "cell_type": "code",
   "execution_count": 72,
   "metadata": {},
   "outputs": [
    {
     "name": "stderr",
     "output_type": "stream",
     "text": [
      "100%|████████████████████████████████████████████████████████████████████████████████████| 4/4 [00:00<00:00, 12.04it/s]\n"
     ]
    }
   ],
   "source": [
    "from tqdm import tqdm\n",
    "inertia = []\n",
    "k = [2, 5, 10, 30]\n",
    "\n",
    "for number_of_cluster in tqdm(k):\n",
    "\n",
    "    kmeans = KMeans(n_clusters=number_of_cluster, init='k-means++', max_iter=300, n_init=10, random_state=0)\n",
    "    \n",
    "    kmeans.fit(data)\n",
    "    \n",
    "    inertia.append(kmeans.inertia_)\n"
   ]
  },
  {
   "cell_type": "code",
   "execution_count": 73,
   "metadata": {},
   "outputs": [
    {
     "data": {
      "image/png": "[encoded data removed]",
      "text/plain": [
       "<Figure size 1440x576 with 1 Axes>"
      ]
     },
     "metadata": {
      "needs_background": "light"
     },
     "output_type": "display_data"
    }
   ],
   "source": [
    "plt.figure(figsize = (20,8))\n",
    "sns.lineplot(k , inertia)\n",
    "plt.xlabel('Values of K') \n",
    "plt.ylabel('Sum of squared distances/Inertia') \n",
    "plt.title('Elbow Method For Optimal k')\n",
    "plt.show()"
   ]
  },
  {
   "cell_type": "code",
   "execution_count": 74,
   "metadata": {},
   "outputs": [
    {
     "name": "stderr",
     "output_type": "stream",
     "text": [
      "100%|████████████████████████████████████████████████████████████████████████████████████| 4/4 [00:00<00:00, 12.19it/s]\n"
     ]
    },
    {
     "data": {
      "image/png": "[encoded data removed]",
      "text/plain": [
       "<Figure size 432x288 with 1 Axes>"
      ]
     },
     "metadata": {
      "needs_background": "light"
     },
     "output_type": "display_data"
    }
   ],
   "source": [
    "\n",
    "silhouette_avg = []\n",
    "k = [2, 5, 10, 30]\n",
    "\n",
    "for number_of_cluster in tqdm(k):\n",
    "\n",
    "    kmeans = KMeans(n_clusters=number_of_cluster, init='k-means++', max_iter=300, n_init=10, random_state=0)\n",
    "    \n",
    "    kmeans.fit(data)\n",
    "    \n",
    "    inertia.append(kmeans.inertia_)\n",
    "    \n",
    "    silhouette_avg.append(silhouette_score(data, kmeans.labels_))\n",
    "    \n",
    "sns.lineplot(k , silhouette_avg)\n",
    "    \n",
    "plt.xlabel('Values of K') \n",
    "plt.ylabel('Silhouette score') \n",
    "plt.title('Silhouette analysis For Optimal k')\n",
    "plt.show()\n"
   ]
  },
  {
   "cell_type": "code",
   "execution_count": 75,
   "metadata": {},
   "outputs": [],
   "source": [
    "\n",
    "kmeans_act = KMeans(n_clusters = 5, init='k-means++', max_iter=500, n_init= 15, random_state=0)\n",
    "\n",
    "kmeans_act.fit(data)\n",
    "\n",
    "index_cluster = kmeans_act.labels_\n"
   ]
  },
  {
   "cell_type": "code",
   "execution_count": 76,
   "metadata": {
    "scrolled": false
   },
   "outputs": [
    {
     "data": {
      "image/png": "[encoded data removed]",
      "text/plain": [
       "<Figure size 720x720 with 1 Axes>"
      ]
     },
     "metadata": {
      "needs_background": "light"
     },
     "output_type": "display_data"
    }
   ],
   "source": [
    "label_map = { l: i for i, l in enumerate(np.unique(kmeans_act.labels_))}\n",
    "node_colours = [ label_map[target] for target in kmeans_act.labels_]\n",
    "\n",
    "\n",
    "fig, ax = plt.subplots(figsize = (10,10))\n",
    "\n",
    "scatter = ax.scatter(creator_embeddings_2d[:,0], \n",
    "            creator_embeddings_2d[:,1], \n",
    "            alpha=1,c = node_colours)\n",
    "\n",
    "legend1 = ax.legend(*scatter.legend_elements(),\n",
    "                    loc=\"lower left\", title=\"Classes\")\n",
    "\n",
    "\n",
    "plt.title('visualization of Actor node embeddings with Cluster Color')\n",
    "\n",
    "plt.show()"
   ]
  },
  {
   "cell_type": "code",
   "execution_count": 77,
   "metadata": {},
   "outputs": [
    {
     "data": {
      "text/plain": [
       "{0: 0, 1: 1, 2: 2, 3: 3, 4: 4}"
      ]
     },
     "execution_count": 77,
     "metadata": {},
     "output_type": "execute_result"
    }
   ],
   "source": [
    "label_map"
   ]
  },
  {
   "cell_type": "code",
   "execution_count": 78,
   "metadata": {},
   "outputs": [],
   "source": [
    "df_rfm['K_means Clusters'] = kmeans_act.labels_"
   ]
  },
  {
   "cell_type": "code",
   "execution_count": 79,
   "metadata": {
    "scrolled": true
   },
   "outputs": [
    {
     "data": {
      "text/plain": [
       "Others          134\n",
       "P Creators       42\n",
       "B Creator        26\n",
       "HSN Creator       4\n",
       "LSAL Creator      2\n",
       "Name: RFM Segment, dtype: int64"
      ]
     },
     "execution_count": 79,
     "metadata": {},
     "output_type": "execute_result"
    }
   ],
   "source": [
    "df_rfm[df_rfm['K_means Clusters'] == 0]['RFM Segment'].value_counts()"
   ]
  },
  {
   "cell_type": "code",
   "execution_count": 80,
   "metadata": {},
   "outputs": [
    {
     "data": {
      "text/html": [
       "<div>\n",
       "<style scoped>\n",
       "    .dataframe tbody tr th:only-of-type {\n",
       "        vertical-align: middle;\n",
       "    }\n",
       "\n",
       "    .dataframe tbody tr th {\n",
       "        vertical-align: top;\n",
       "    }\n",
       "\n",
       "    .dataframe thead th {\n",
       "        text-align: right;\n",
       "    }\n",
       "</style>\n",
       "<table border=\"1\" class=\"dataframe\">\n",
       "  <thead>\n",
       "    <tr style=\"text-align: right;\">\n",
       "      <th></th>\n",
       "      <th>Id</th>\n",
       "      <th>Last Update</th>\n",
       "      <th>Total Videos</th>\n",
       "      <th>GMV</th>\n",
       "      <th>F_Score</th>\n",
       "      <th>M_Score</th>\n",
       "      <th>R_Score</th>\n",
       "      <th>RFM</th>\n",
       "      <th>RFM Segment</th>\n",
       "      <th>K_means Clusters</th>\n",
       "    </tr>\n",
       "  </thead>\n",
       "  <tbody>\n",
       "    <tr>\n",
       "      <th>25</th>\n",
       "      <td>C26</td>\n",
       "      <td>1</td>\n",
       "      <td>1120</td>\n",
       "      <td>5.164276e+06</td>\n",
       "      <td>1</td>\n",
       "      <td>1</td>\n",
       "      <td>1</td>\n",
       "      <td>111</td>\n",
       "      <td>B Creator</td>\n",
       "      <td>1</td>\n",
       "    </tr>\n",
       "    <tr>\n",
       "      <th>144</th>\n",
       "      <td>C145</td>\n",
       "      <td>1</td>\n",
       "      <td>3314</td>\n",
       "      <td>2.713225e+06</td>\n",
       "      <td>1</td>\n",
       "      <td>1</td>\n",
       "      <td>1</td>\n",
       "      <td>111</td>\n",
       "      <td>B Creator</td>\n",
       "      <td>1</td>\n",
       "    </tr>\n",
       "  </tbody>\n",
       "</table>\n",
       "</div>"
      ],
      "text/plain": [
       "       Id  Last Update  Total Videos           GMV F_Score M_Score R_Score  \\\n",
       "25    C26            1          1120  5.164276e+06       1       1       1   \n",
       "144  C145            1          3314  2.713225e+06       1       1       1   \n",
       "\n",
       "     RFM RFM Segment  K_means Clusters  \n",
       "25   111   B Creator                 1  \n",
       "144  111   B Creator                 1  "
      ]
     },
     "execution_count": 80,
     "metadata": {},
     "output_type": "execute_result"
    }
   ],
   "source": [
    "df_rfm[df_rfm['K_means Clusters'] == 1]"
   ]
  },
  {
   "cell_type": "code",
   "execution_count": 81,
   "metadata": {},
   "outputs": [
    {
     "data": {
      "text/html": [
       "<div>\n",
       "<style scoped>\n",
       "    .dataframe tbody tr th:only-of-type {\n",
       "        vertical-align: middle;\n",
       "    }\n",
       "\n",
       "    .dataframe tbody tr th {\n",
       "        vertical-align: top;\n",
       "    }\n",
       "\n",
       "    .dataframe thead th {\n",
       "        text-align: right;\n",
       "    }\n",
       "</style>\n",
       "<table border=\"1\" class=\"dataframe\">\n",
       "  <thead>\n",
       "    <tr style=\"text-align: right;\">\n",
       "      <th></th>\n",
       "      <th>Id</th>\n",
       "      <th>Last Update</th>\n",
       "      <th>Total Videos</th>\n",
       "      <th>GMV</th>\n",
       "      <th>F_Score</th>\n",
       "      <th>M_Score</th>\n",
       "      <th>R_Score</th>\n",
       "      <th>RFM</th>\n",
       "      <th>RFM Segment</th>\n",
       "      <th>K_means Clusters</th>\n",
       "    </tr>\n",
       "  </thead>\n",
       "  <tbody>\n",
       "    <tr>\n",
       "      <th>184</th>\n",
       "      <td>C185</td>\n",
       "      <td>1</td>\n",
       "      <td>14865</td>\n",
       "      <td>1.193064e+07</td>\n",
       "      <td>1</td>\n",
       "      <td>1</td>\n",
       "      <td>1</td>\n",
       "      <td>111</td>\n",
       "      <td>B Creator</td>\n",
       "      <td>2</td>\n",
       "    </tr>\n",
       "  </tbody>\n",
       "</table>\n",
       "</div>"
      ],
      "text/plain": [
       "       Id  Last Update  Total Videos           GMV F_Score M_Score R_Score  \\\n",
       "184  C185            1         14865  1.193064e+07       1       1       1   \n",
       "\n",
       "     RFM RFM Segment  K_means Clusters  \n",
       "184  111   B Creator                 2  "
      ]
     },
     "execution_count": 81,
     "metadata": {},
     "output_type": "execute_result"
    }
   ],
   "source": [
    "df_rfm[df_rfm['K_means Clusters'] == 2]"
   ]
  },
  {
   "cell_type": "code",
   "execution_count": 82,
   "metadata": {
    "scrolled": false
   },
   "outputs": [
    {
     "data": {
      "text/plain": [
       "B Creator     14\n",
       "P Creators     4\n",
       "Others         3\n",
       "Name: RFM Segment, dtype: int64"
      ]
     },
     "execution_count": 82,
     "metadata": {},
     "output_type": "execute_result"
    }
   ],
   "source": [
    "df_rfm[df_rfm['K_means Clusters'] == 3]['RFM Segment'].value_counts()"
   ]
  },
  {
   "cell_type": "code",
   "execution_count": 83,
   "metadata": {},
   "outputs": [
    {
     "data": {
      "text/html": [
       "<div>\n",
       "<style scoped>\n",
       "    .dataframe tbody tr th:only-of-type {\n",
       "        vertical-align: middle;\n",
       "    }\n",
       "\n",
       "    .dataframe tbody tr th {\n",
       "        vertical-align: top;\n",
       "    }\n",
       "\n",
       "    .dataframe thead th {\n",
       "        text-align: right;\n",
       "    }\n",
       "</style>\n",
       "<table border=\"1\" class=\"dataframe\">\n",
       "  <thead>\n",
       "    <tr style=\"text-align: right;\">\n",
       "      <th></th>\n",
       "      <th>Id</th>\n",
       "      <th>Last Update</th>\n",
       "      <th>Total Videos</th>\n",
       "      <th>GMV</th>\n",
       "      <th>F_Score</th>\n",
       "      <th>M_Score</th>\n",
       "      <th>R_Score</th>\n",
       "      <th>RFM</th>\n",
       "      <th>RFM Segment</th>\n",
       "      <th>K_means Clusters</th>\n",
       "    </tr>\n",
       "  </thead>\n",
       "  <tbody>\n",
       "    <tr>\n",
       "      <th>22</th>\n",
       "      <td>C23</td>\n",
       "      <td>1</td>\n",
       "      <td>7640</td>\n",
       "      <td>3.924930e+06</td>\n",
       "      <td>1</td>\n",
       "      <td>1</td>\n",
       "      <td>1</td>\n",
       "      <td>111</td>\n",
       "      <td>B Creator</td>\n",
       "      <td>4</td>\n",
       "    </tr>\n",
       "    <tr>\n",
       "      <th>133</th>\n",
       "      <td>C134</td>\n",
       "      <td>1</td>\n",
       "      <td>4466</td>\n",
       "      <td>8.358156e+06</td>\n",
       "      <td>1</td>\n",
       "      <td>1</td>\n",
       "      <td>1</td>\n",
       "      <td>111</td>\n",
       "      <td>B Creator</td>\n",
       "      <td>4</td>\n",
       "    </tr>\n",
       "  </tbody>\n",
       "</table>\n",
       "</div>"
      ],
      "text/plain": [
       "       Id  Last Update  Total Videos           GMV F_Score M_Score R_Score  \\\n",
       "22    C23            1          7640  3.924930e+06       1       1       1   \n",
       "133  C134            1          4466  8.358156e+06       1       1       1   \n",
       "\n",
       "     RFM RFM Segment  K_means Clusters  \n",
       "22   111   B Creator                 4  \n",
       "133  111   B Creator                 4  "
      ]
     },
     "execution_count": 83,
     "metadata": {},
     "output_type": "execute_result"
    }
   ],
   "source": [
    "df_rfm[df_rfm['K_means Clusters'] == 4]"
   ]
  },
  {
   "cell_type": "markdown",
   "metadata": {},
   "source": [
    "# DBSCAN Clustering"
   ]
  },
  {
   "cell_type": "code",
   "execution_count": 111,
   "metadata": {},
   "outputs": [
    {
     "data": {
      "text/plain": [
       "2"
      ]
     },
     "execution_count": 111,
     "metadata": {},
     "output_type": "execute_result"
    }
   ],
   "source": [
    "node_colours[1]"
   ]
  },
  {
   "cell_type": "code",
   "execution_count": 112,
   "metadata": {},
   "outputs": [
    {
     "data": {
      "text/plain": [
       "['0',\n",
       " '1',\n",
       " '0',\n",
       " '2',\n",
       " '-1',\n",
       " '3',\n",
       " '0',\n",
       " '0',\n",
       " '-1',\n",
       " '0',\n",
       " '1',\n",
       " '0',\n",
       " '0',\n",
       " '0',\n",
       " '-1',\n",
       " '0',\n",
       " '-1',\n",
       " '0',\n",
       " '0',\n",
       " '1',\n",
       " '0',\n",
       " '0',\n",
       " '-1',\n",
       " '0',\n",
       " '0',\n",
       " '-1',\n",
       " '-1',\n",
       " '0',\n",
       " '-1',\n",
       " '0',\n",
       " '0',\n",
       " '0',\n",
       " '0',\n",
       " '0',\n",
       " '-1',\n",
       " '0',\n",
       " '-1',\n",
       " '0',\n",
       " '0',\n",
       " '0',\n",
       " '-1',\n",
       " '-1',\n",
       " '0',\n",
       " '0',\n",
       " '0',\n",
       " '0',\n",
       " '0',\n",
       " '0',\n",
       " '0',\n",
       " '0',\n",
       " '-1',\n",
       " '0',\n",
       " '0',\n",
       " '0',\n",
       " '-1',\n",
       " '0',\n",
       " '0',\n",
       " '0',\n",
       " '-1',\n",
       " '0',\n",
       " '0',\n",
       " '0',\n",
       " '0',\n",
       " '0',\n",
       " '0',\n",
       " '0',\n",
       " '0',\n",
       " '0',\n",
       " '-1',\n",
       " '0',\n",
       " '0',\n",
       " '-1',\n",
       " '0',\n",
       " '0',\n",
       " '-1',\n",
       " '-1',\n",
       " '0',\n",
       " '0',\n",
       " '0',\n",
       " '-1',\n",
       " '-1',\n",
       " '0',\n",
       " '0',\n",
       " '0',\n",
       " '0',\n",
       " '0',\n",
       " '0',\n",
       " '0',\n",
       " '-1',\n",
       " '0',\n",
       " '0',\n",
       " '-1',\n",
       " '-1',\n",
       " '0',\n",
       " '0',\n",
       " '0',\n",
       " '0',\n",
       " '0',\n",
       " '-1',\n",
       " '-1',\n",
       " '0',\n",
       " '0',\n",
       " '0',\n",
       " '0',\n",
       " '-1',\n",
       " '0',\n",
       " '0',\n",
       " '0',\n",
       " '-1',\n",
       " '0',\n",
       " '0',\n",
       " '-1',\n",
       " '-1',\n",
       " '0',\n",
       " '0',\n",
       " '0',\n",
       " '0',\n",
       " '0',\n",
       " '0',\n",
       " '-1',\n",
       " '-1',\n",
       " '0',\n",
       " '0',\n",
       " '0',\n",
       " '-1',\n",
       " '0',\n",
       " '-1',\n",
       " '-1',\n",
       " '0',\n",
       " '-1',\n",
       " '0',\n",
       " '-1',\n",
       " '0',\n",
       " '-1',\n",
       " '0',\n",
       " '0',\n",
       " '3',\n",
       " '0',\n",
       " '0',\n",
       " '0',\n",
       " '0',\n",
       " '0',\n",
       " '-1',\n",
       " '0',\n",
       " '-1',\n",
       " '-1',\n",
       " '-1',\n",
       " '0',\n",
       " '-1',\n",
       " '0',\n",
       " '0',\n",
       " '-1',\n",
       " '-1',\n",
       " '0',\n",
       " '0',\n",
       " '-1',\n",
       " '0',\n",
       " '0',\n",
       " '-1',\n",
       " '0',\n",
       " '-1',\n",
       " '-1',\n",
       " '0',\n",
       " '0',\n",
       " '-1',\n",
       " '-1',\n",
       " '0',\n",
       " '-1',\n",
       " '-1',\n",
       " '-1',\n",
       " '-1',\n",
       " '-1',\n",
       " '0',\n",
       " '0',\n",
       " '0',\n",
       " '0',\n",
       " '-1',\n",
       " '0',\n",
       " '-1',\n",
       " '-1',\n",
       " '-1',\n",
       " '-1',\n",
       " '-1',\n",
       " '-1',\n",
       " '-1',\n",
       " '0',\n",
       " '-1',\n",
       " '0',\n",
       " '-1',\n",
       " '-1',\n",
       " '-1',\n",
       " '0',\n",
       " '0',\n",
       " '0',\n",
       " '-1',\n",
       " '0',\n",
       " '0',\n",
       " '0',\n",
       " '-1',\n",
       " '0',\n",
       " '0',\n",
       " '0',\n",
       " '0',\n",
       " '-1',\n",
       " '-1',\n",
       " '-1',\n",
       " '-1',\n",
       " '0',\n",
       " '0',\n",
       " '-1',\n",
       " '0',\n",
       " '0',\n",
       " '-1',\n",
       " '-1',\n",
       " '-1',\n",
       " '-1',\n",
       " '-1',\n",
       " '-1',\n",
       " '0',\n",
       " '0',\n",
       " '-1',\n",
       " '-1',\n",
       " '-1',\n",
       " '-1',\n",
       " '-1',\n",
       " '0',\n",
       " '0',\n",
       " '2',\n",
       " '0',\n",
       " '0',\n",
       " '1',\n",
       " '0',\n",
       " '0',\n",
       " '0']"
      ]
     },
     "execution_count": 112,
     "metadata": {},
     "output_type": "execute_result"
    }
   ],
   "source": [
    "index_cluster"
   ]
  },
  {
   "cell_type": "code",
   "execution_count": 121,
   "metadata": {
    "scrolled": false
   },
   "outputs": [
    {
     "data": {
      "image/png": "[encoded data removed]",
      "text/plain": [
       "<Figure size 1080x720 with 1 Axes>"
      ]
     },
     "metadata": {
      "needs_background": "light"
     },
     "output_type": "display_data"
    }
   ],
   "source": [
    "dbscan = DBSCAN(eps = .445,min_samples=2) # Manually I have checked with othe hyper parametrs but the results aren't varying that much\n",
    "\n",
    "dbscan.fit(data)\n",
    "\n",
    "index_cluster = [str(i) for i in dbscan.labels_]\n",
    "\n",
    "label_map = { l: i for i, l in enumerate(np.unique(index_cluster))}\n",
    "node_colours = [ label_map[target] for target in index_cluster]\n",
    "\n",
    "\n",
    "plt.figure(figsize=(15,10))\n",
    "color = ['red','blue']\n",
    "sns.set_palette(color)\n",
    "\n",
    "scatter = sns.scatterplot(creator_embeddings_2d[:,0], \n",
    "            creator_embeddings_2d[:,1], \n",
    "            alpha=1,hue = index_cluster, s = 100)\n",
    "\n",
    "#legend1 = ax.legend(*scatter.legend_elements(),loc=\"lower left\", title=\"Classes\")\n",
    "\n",
    "\n",
    "plt.title('visualization of Actor node embeddings with Cluster Color')\n",
    "\n",
    "plt.show()"
   ]
  },
  {
   "cell_type": "markdown",
   "metadata": {},
   "source": [
    "label_map : {-1: 0, 0: 1, 1: 2, 2: 3, 3: 4}"
   ]
  },
  {
   "cell_type": "code",
   "execution_count": 85,
   "metadata": {},
   "outputs": [
    {
     "data": {
      "text/plain": [
       "{-1: 0, 0: 1, 1: 2, 2: 3, 3: 4}"
      ]
     },
     "execution_count": 85,
     "metadata": {},
     "output_type": "execute_result"
    }
   ],
   "source": [
    "label_map"
   ]
  },
  {
   "cell_type": "code",
   "execution_count": 86,
   "metadata": {},
   "outputs": [
    {
     "data": {
      "text/plain": [
       " 0    140\n",
       "-1     86\n",
       " 1      4\n",
       " 2      2\n",
       " 3      2\n",
       "Name: DB Clusters, dtype: int64"
      ]
     },
     "execution_count": 86,
     "metadata": {},
     "output_type": "execute_result"
    }
   ],
   "source": [
    "df_rfm['DB Clusters'] = index_cluster\n",
    "df_rfm['DB Clusters'].value_counts()"
   ]
  },
  {
   "cell_type": "code",
   "execution_count": 87,
   "metadata": {},
   "outputs": [
    {
     "data": {
      "text/plain": [
       "Others         118\n",
       "P Creators      21\n",
       "HSN Creator      1\n",
       "Name: RFM Segment, dtype: int64"
      ]
     },
     "execution_count": 87,
     "metadata": {},
     "output_type": "execute_result"
    }
   ],
   "source": [
    "df_rfm[df_rfm['DB Clusters'] == 0]['RFM Segment'].value_counts()"
   ]
  },
  {
   "cell_type": "code",
   "execution_count": 88,
   "metadata": {},
   "outputs": [
    {
     "data": {
      "text/plain": [
       "B Creator       45\n",
       "P Creators      24\n",
       "Others          13\n",
       "HSN Creator      2\n",
       "LSAL Creator     2\n",
       "Name: RFM Segment, dtype: int64"
      ]
     },
     "execution_count": 88,
     "metadata": {},
     "output_type": "execute_result"
    }
   ],
   "source": [
    "df_rfm[df_rfm['DB Clusters'] == -1]['RFM Segment'].value_counts()"
   ]
  },
  {
   "cell_type": "code",
   "execution_count": 89,
   "metadata": {},
   "outputs": [
    {
     "data": {
      "text/plain": [
       "0.9918834879064642"
      ]
     },
     "execution_count": 89,
     "metadata": {},
     "output_type": "execute_result"
    }
   ],
   "source": [
    "#total revenue percent from cluster -1\n",
    "df_rfm[df_rfm['DB Clusters'] == -1].GMV.sum()/df_rfm.GMV.sum()"
   ]
  },
  {
   "cell_type": "code",
   "execution_count": 90,
   "metadata": {},
   "outputs": [
    {
     "data": {
      "text/plain": [
       "0.9616318008649792"
      ]
     },
     "execution_count": 90,
     "metadata": {},
     "output_type": "execute_result"
    }
   ],
   "source": [
    "#total video creation percent from cluster -1\n",
    "df_rfm[df_rfm['DB Clusters'] == -1]['Total Videos'].sum()/df_rfm['Total Videos'].sum()"
   ]
  },
  {
   "cell_type": "code",
   "execution_count": 91,
   "metadata": {},
   "outputs": [
    {
     "data": {
      "text/plain": [
       "0.36752136752136755"
      ]
     },
     "execution_count": 91,
     "metadata": {},
     "output_type": "execute_result"
    }
   ],
   "source": [
    "#total percent of population from cluster -1\n",
    "len(df_rfm[df_rfm['DB Clusters'] == -1])/df_rfm['Total Videos'].shape[0]"
   ]
  },
  {
   "cell_type": "markdown",
   "metadata": {},
   "source": [
    "### **Seems like these 37 percent of people who are the real asset of the company"
   ]
  },
  {
   "cell_type": "code",
   "execution_count": 92,
   "metadata": {},
   "outputs": [
    {
     "name": "stdout",
     "output_type": "stream",
     "text": [
      "0'th Percentile value of grand total: 367.0099913086739\n",
      "10'th Percentile value of grand total: 6074.005092444818\n",
      "20'th Percentile value of grand total: 12006.029908306882\n",
      "30'th Percentile value of grand total: 27821.000323895318\n",
      "40'th Percentile value of grand total: 56035.7888097389\n",
      "50'th Percentile value of grand total: 89836.52066674069\n",
      "60'th Percentile value of grand total: 173456.04815726707\n",
      "70'th Percentile value of grand total: 274671.5029542076\n",
      "80'th Percentile value of grand total: 627508.0062083553\n",
      "90'th Percentile value of grand total: 1376932.2431501406\n",
      "100'th Percentile value of grand total: 11930639.626307186\n"
     ]
    }
   ],
   "source": [
    "db_1 = df_rfm[df_rfm['DB Clusters'] == -1]\n",
    "for i in range(0,101,10):\n",
    "    v = np.percentile(db_1['GMV'],i)\n",
    "    print(\"{}'th Percentile value of grand total: {}\".format(i,v))"
   ]
  },
  {
   "cell_type": "code",
   "execution_count": 93,
   "metadata": {},
   "outputs": [
    {
     "name": "stdout",
     "output_type": "stream",
     "text": [
      "0'th Percentile value of grand total: 3.0\n",
      "10'th Percentile value of grand total: 14.0\n",
      "20'th Percentile value of grand total: 22.0\n",
      "30'th Percentile value of grand total: 51.0\n",
      "40'th Percentile value of grand total: 116.0\n",
      "50'th Percentile value of grand total: 194.5\n",
      "60'th Percentile value of grand total: 371.0\n",
      "70'th Percentile value of grand total: 559.5\n",
      "80'th Percentile value of grand total: 986.0\n",
      "90'th Percentile value of grand total: 2052.5\n",
      "100'th Percentile value of grand total: 14865.0\n"
     ]
    }
   ],
   "source": [
    "db_1 = df_rfm[df_rfm['DB Clusters'] == -1]\n",
    "for i in range(0,101,10):\n",
    "    v = np.percentile(db_1['Total Videos'],i)\n",
    "    print(\"{}'th Percentile value of grand total: {}\".format(i,v))"
   ]
  },
  {
   "cell_type": "markdown",
   "metadata": {},
   "source": [
    "## Some Stats about label 0"
   ]
  },
  {
   "cell_type": "code",
   "execution_count": 94,
   "metadata": {},
   "outputs": [
    {
     "data": {
      "text/plain": [
       "0.006132297026545686"
      ]
     },
     "execution_count": 94,
     "metadata": {},
     "output_type": "execute_result"
    }
   ],
   "source": [
    "#total revenue percent from cluster 0\n",
    "df_rfm[df_rfm['DB Clusters'] == 0].GMV.sum()/df_rfm.GMV.sum()"
   ]
  },
  {
   "cell_type": "code",
   "execution_count": 95,
   "metadata": {},
   "outputs": [
    {
     "data": {
      "text/plain": [
       "0.03750050841253271"
      ]
     },
     "execution_count": 95,
     "metadata": {},
     "output_type": "execute_result"
    }
   ],
   "source": [
    "df_rfm[df_rfm['DB Clusters'] == 0]['Total Videos'].sum()/df_rfm['Total Videos'].sum()"
   ]
  },
  {
   "cell_type": "code",
   "execution_count": 96,
   "metadata": {
    "scrolled": true
   },
   "outputs": [
    {
     "data": {
      "text/plain": [
       "0.5982905982905983"
      ]
     },
     "execution_count": 96,
     "metadata": {},
     "output_type": "execute_result"
    }
   ],
   "source": [
    "#total percent of population from cluster -1\n",
    "len(df_rfm[df_rfm['DB Clusters'] == 0])/df_rfm['Total Videos'].shape[0]"
   ]
  },
  {
   "cell_type": "code",
   "execution_count": 97,
   "metadata": {},
   "outputs": [
    {
     "data": {
      "text/plain": [
       "<AxesSubplot:xlabel='Total Videos'>"
      ]
     },
     "execution_count": 97,
     "metadata": {},
     "output_type": "execute_result"
    },
    {
     "data": {
      "image/png": "[encoded data removed]",
      "text/plain": [
       "<Figure size 720x720 with 1 Axes>"
      ]
     },
     "metadata": {
      "needs_background": "light"
     },
     "output_type": "display_data"
    }
   ],
   "source": [
    "plt.figure(figsize=(10,10))\n",
    "\n",
    "sns.boxplot(df_rfm[df_rfm['DB Clusters'] == 0]['Total Videos'])\n"
   ]
  },
  {
   "cell_type": "code",
   "execution_count": 138,
   "metadata": {},
   "outputs": [
    {
     "name": "stdout",
     "output_type": "stream",
     "text": [
      "0'th Percentile value of grand total: 2.999999916180962\n",
      "10'th Percentile value of grand total: 6.02999985963106\n",
      "20'th Percentile value of grand total: 14.016000141203367\n",
      "30'th Percentile value of grand total: 38.25100086703879\n",
      "40'th Percentile value of grand total: 79.79999977722758\n",
      "50'th Percentile value of grand total: 252.010006330907\n",
      "60'th Percentile value of grand total: 460.20400098450375\n",
      "70'th Percentile value of grand total: 958.1120046988117\n",
      "80'th Percentile value of grand total: 2075.199972915639\n",
      "90'th Percentile value of grand total: 6560.708861170153\n",
      "100'th Percentile value of grand total: 37512.06085802613\n"
     ]
    }
   ],
   "source": [
    "db_2 = df_rfm[df_rfm['DB Clusters'] == 0]\n",
    "for i in range(0,101,10):\n",
    "    v = np.percentile(db_2['GMV'],i)\n",
    "    print(\"{}'th Percentile value of grand total: {}\".format(i,v))"
   ]
  },
  {
   "cell_type": "code",
   "execution_count": 139,
   "metadata": {},
   "outputs": [
    {
     "data": {
      "text/plain": [
       "Others         118\n",
       "P Creators      21\n",
       "HSN Creator      1\n",
       "Name: RFM Segment, dtype: int64"
      ]
     },
     "execution_count": 139,
     "metadata": {},
     "output_type": "execute_result"
    }
   ],
   "source": [
    "df_rfm[df_rfm['DB Clusters'] == 0]['RFM Segment'].value_counts()"
   ]
  },
  {
   "cell_type": "markdown",
   "metadata": {},
   "source": [
    "And these 60% of people belonging to cluster 0 are least important creators. They don't even contribute 1% of profit\n",
    "\n",
    "**Surprisingly there is one new high earning creator is among them so we can talk to him, and some potential creators to improve their level\n"
   ]
  },
  {
   "cell_type": "markdown",
   "metadata": {},
   "source": [
    "# FINAL SEGMENTED DATA FRAME"
   ]
  },
  {
   "cell_type": "code",
   "execution_count": 141,
   "metadata": {
    "scrolled": false
   },
   "outputs": [
    {
     "data": {
      "text/html": [
       "<div>\n",
       "<style scoped>\n",
       "    .dataframe tbody tr th:only-of-type {\n",
       "        vertical-align: middle;\n",
       "    }\n",
       "\n",
       "    .dataframe tbody tr th {\n",
       "        vertical-align: top;\n",
       "    }\n",
       "\n",
       "    .dataframe thead th {\n",
       "        text-align: right;\n",
       "    }\n",
       "</style>\n",
       "<table border=\"1\" class=\"dataframe\">\n",
       "  <thead>\n",
       "    <tr style=\"text-align: right;\">\n",
       "      <th></th>\n",
       "      <th>Id</th>\n",
       "      <th>Last Update</th>\n",
       "      <th>Total Videos</th>\n",
       "      <th>GMV</th>\n",
       "      <th>F_Score</th>\n",
       "      <th>M_Score</th>\n",
       "      <th>R_Score</th>\n",
       "      <th>RFM</th>\n",
       "      <th>RFM Segment</th>\n",
       "      <th>K_means Clusters</th>\n",
       "      <th>DB Clusters</th>\n",
       "    </tr>\n",
       "  </thead>\n",
       "  <tbody>\n",
       "    <tr>\n",
       "      <th>0</th>\n",
       "      <td>C1</td>\n",
       "      <td>2</td>\n",
       "      <td>3</td>\n",
       "      <td>600.000012</td>\n",
       "      <td>4</td>\n",
       "      <td>3</td>\n",
       "      <td>1</td>\n",
       "      <td>143</td>\n",
       "      <td>Others</td>\n",
       "      <td>0</td>\n",
       "      <td>0</td>\n",
       "    </tr>\n",
       "    <tr>\n",
       "      <th>1</th>\n",
       "      <td>C2</td>\n",
       "      <td>1</td>\n",
       "      <td>7</td>\n",
       "      <td>6939.000057</td>\n",
       "      <td>3</td>\n",
       "      <td>2</td>\n",
       "      <td>1</td>\n",
       "      <td>132</td>\n",
       "      <td>Others</td>\n",
       "      <td>0</td>\n",
       "      <td>1</td>\n",
       "    </tr>\n",
       "    <tr>\n",
       "      <th>2</th>\n",
       "      <td>C3</td>\n",
       "      <td>1</td>\n",
       "      <td>71</td>\n",
       "      <td>367.999990</td>\n",
       "      <td>2</td>\n",
       "      <td>3</td>\n",
       "      <td>1</td>\n",
       "      <td>123</td>\n",
       "      <td>Others</td>\n",
       "      <td>0</td>\n",
       "      <td>0</td>\n",
       "    </tr>\n",
       "    <tr>\n",
       "      <th>3</th>\n",
       "      <td>C4</td>\n",
       "      <td>1</td>\n",
       "      <td>7</td>\n",
       "      <td>11158.999637</td>\n",
       "      <td>3</td>\n",
       "      <td>2</td>\n",
       "      <td>1</td>\n",
       "      <td>132</td>\n",
       "      <td>Others</td>\n",
       "      <td>0</td>\n",
       "      <td>2</td>\n",
       "    </tr>\n",
       "    <tr>\n",
       "      <th>4</th>\n",
       "      <td>C5</td>\n",
       "      <td>3</td>\n",
       "      <td>10</td>\n",
       "      <td>8002.000090</td>\n",
       "      <td>3</td>\n",
       "      <td>2</td>\n",
       "      <td>2</td>\n",
       "      <td>232</td>\n",
       "      <td>Others</td>\n",
       "      <td>0</td>\n",
       "      <td>-1</td>\n",
       "    </tr>\n",
       "    <tr>\n",
       "      <th>...</th>\n",
       "      <td>...</td>\n",
       "      <td>...</td>\n",
       "      <td>...</td>\n",
       "      <td>...</td>\n",
       "      <td>...</td>\n",
       "      <td>...</td>\n",
       "      <td>...</td>\n",
       "      <td>...</td>\n",
       "      <td>...</td>\n",
       "      <td>...</td>\n",
       "      <td>...</td>\n",
       "    </tr>\n",
       "    <tr>\n",
       "      <th>229</th>\n",
       "      <td>C230</td>\n",
       "      <td>1</td>\n",
       "      <td>17</td>\n",
       "      <td>34.169999</td>\n",
       "      <td>3</td>\n",
       "      <td>4</td>\n",
       "      <td>1</td>\n",
       "      <td>134</td>\n",
       "      <td>Others</td>\n",
       "      <td>0</td>\n",
       "      <td>0</td>\n",
       "    </tr>\n",
       "    <tr>\n",
       "      <th>230</th>\n",
       "      <td>C231</td>\n",
       "      <td>2</td>\n",
       "      <td>3</td>\n",
       "      <td>1240.000030</td>\n",
       "      <td>4</td>\n",
       "      <td>3</td>\n",
       "      <td>1</td>\n",
       "      <td>143</td>\n",
       "      <td>Others</td>\n",
       "      <td>0</td>\n",
       "      <td>1</td>\n",
       "    </tr>\n",
       "    <tr>\n",
       "      <th>231</th>\n",
       "      <td>C232</td>\n",
       "      <td>1</td>\n",
       "      <td>5</td>\n",
       "      <td>157.009998</td>\n",
       "      <td>4</td>\n",
       "      <td>3</td>\n",
       "      <td>1</td>\n",
       "      <td>143</td>\n",
       "      <td>Others</td>\n",
       "      <td>0</td>\n",
       "      <td>0</td>\n",
       "    </tr>\n",
       "    <tr>\n",
       "      <th>232</th>\n",
       "      <td>C233</td>\n",
       "      <td>1</td>\n",
       "      <td>83</td>\n",
       "      <td>8362.999922</td>\n",
       "      <td>2</td>\n",
       "      <td>2</td>\n",
       "      <td>1</td>\n",
       "      <td>122</td>\n",
       "      <td>P Creators</td>\n",
       "      <td>0</td>\n",
       "      <td>0</td>\n",
       "    </tr>\n",
       "    <tr>\n",
       "      <th>233</th>\n",
       "      <td>C234</td>\n",
       "      <td>1</td>\n",
       "      <td>48</td>\n",
       "      <td>8142.000099</td>\n",
       "      <td>2</td>\n",
       "      <td>2</td>\n",
       "      <td>1</td>\n",
       "      <td>122</td>\n",
       "      <td>P Creators</td>\n",
       "      <td>0</td>\n",
       "      <td>0</td>\n",
       "    </tr>\n",
       "  </tbody>\n",
       "</table>\n",
       "<p>234 rows × 11 columns</p>\n",
       "</div>"
      ],
      "text/plain": [
       "       Id  Last Update  Total Videos           GMV F_Score M_Score R_Score  \\\n",
       "0      C1            2             3    600.000012       4       3       1   \n",
       "1      C2            1             7   6939.000057       3       2       1   \n",
       "2      C3            1            71    367.999990       2       3       1   \n",
       "3      C4            1             7  11158.999637       3       2       1   \n",
       "4      C5            3            10   8002.000090       3       2       2   \n",
       "..    ...          ...           ...           ...     ...     ...     ...   \n",
       "229  C230            1            17     34.169999       3       4       1   \n",
       "230  C231            2             3   1240.000030       4       3       1   \n",
       "231  C232            1             5    157.009998       4       3       1   \n",
       "232  C233            1            83   8362.999922       2       2       1   \n",
       "233  C234            1            48   8142.000099       2       2       1   \n",
       "\n",
       "     RFM RFM Segment  K_means Clusters  DB Clusters  \n",
       "0    143      Others                 0            0  \n",
       "1    132      Others                 0            1  \n",
       "2    123      Others                 0            0  \n",
       "3    132      Others                 0            2  \n",
       "4    232      Others                 0           -1  \n",
       "..   ...         ...               ...          ...  \n",
       "229  134      Others                 0            0  \n",
       "230  143      Others                 0            1  \n",
       "231  143      Others                 0            0  \n",
       "232  122  P Creators                 0            0  \n",
       "233  122  P Creators                 0            0  \n",
       "\n",
       "[234 rows x 11 columns]"
      ]
     },
     "execution_count": 141,
     "metadata": {},
     "output_type": "execute_result"
    }
   ],
   "source": [
    "df_rfm"
   ]
  },
  {
   "cell_type": "code",
   "execution_count": 163,
   "metadata": {},
   "outputs": [],
   "source": [
    "def redist(x):\n",
    "    if x == -1 : return 'one'\n",
    "    elif x == 0 : return 'two'\n",
    "    else: return 'three'"
   ]
  },
  {
   "cell_type": "code",
   "execution_count": 165,
   "metadata": {},
   "outputs": [],
   "source": [
    "df_rfm['DB_Segmentation'] = df_rfm['DB Clusters'].apply(redist)"
   ]
  },
  {
   "cell_type": "code",
   "execution_count": 167,
   "metadata": {},
   "outputs": [
    {
     "data": {
      "image/png": "[encoded data removed]",
      "text/plain": [
       "<Figure size 1186.05x1080 with 12 Axes>"
      ]
     },
     "metadata": {},
     "output_type": "display_data"
    }
   ],
   "source": [
    "sns.set_style('darkgrid')\n",
    "sns.set_palette(color)\n",
    "sns.pairplot(df_rfm[['Last Update','Total Videos','GMV','DB_Segmentation']],\n",
    "             hue = 'DB_Segmentation',markers=[\"o\", \"s\", \"D\"],plot_kws = {'edgecolor': 'm'},size = 5)\n",
    "plt.show()"
   ]
  },
  {
   "cell_type": "code",
   "execution_count": 571,
   "metadata": {},
   "outputs": [],
   "source": [
    "df_rfm.to_csv(\"ClassPlus_Segmented Dataset.csv\")"
   ]
  },
  {
   "cell_type": "code",
   "execution_count": null,
   "metadata": {},
   "outputs": [],
   "source": []
  }
 ],
 "metadata": {
  "kernelspec": {
   "display_name": "Python 3",
   "language": "python",
   "name": "python3"
  },
  "language_info": {
   "codemirror_mode": {
    "name": "ipython",
    "version": 3
   },
   "file_extension": ".py",
   "mimetype": "text/x-python",
   "name": "python",
   "nbconvert_exporter": "python",
   "pygments_lexer": "ipython3",
   "version": "3.8.5"
  }
 },
 "nbformat": 4,
 "nbformat_minor": 4
}
